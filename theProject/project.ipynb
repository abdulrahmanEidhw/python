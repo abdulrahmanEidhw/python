{
 "cells": [
  {
   "cell_type": "code",
   "execution_count": 9,
   "metadata": {
    "scrolled": false
   },
   "outputs": [
    {
     "data": {
      "text/html": [
       "<div>\n",
       "<style scoped>\n",
       "    .dataframe tbody tr th:only-of-type {\n",
       "        vertical-align: middle;\n",
       "    }\n",
       "\n",
       "    .dataframe tbody tr th {\n",
       "        vertical-align: top;\n",
       "    }\n",
       "\n",
       "    .dataframe thead th {\n",
       "        text-align: right;\n",
       "    }\n",
       "</style>\n",
       "<table border=\"1\" class=\"dataframe\">\n",
       "  <thead>\n",
       "    <tr style=\"text-align: right;\">\n",
       "      <th></th>\n",
       "      <th>Age of patient</th>\n",
       "      <th>Patients year of operation</th>\n",
       "      <th>Number of positive axillary</th>\n",
       "      <th>Survival status</th>\n",
       "    </tr>\n",
       "  </thead>\n",
       "  <tbody>\n",
       "    <tr>\n",
       "      <th>0</th>\n",
       "      <td>30</td>\n",
       "      <td>62</td>\n",
       "      <td>3</td>\n",
       "      <td>1</td>\n",
       "    </tr>\n",
       "    <tr>\n",
       "      <th>1</th>\n",
       "      <td>30</td>\n",
       "      <td>65</td>\n",
       "      <td>0</td>\n",
       "      <td>1</td>\n",
       "    </tr>\n",
       "    <tr>\n",
       "      <th>2</th>\n",
       "      <td>31</td>\n",
       "      <td>59</td>\n",
       "      <td>2</td>\n",
       "      <td>1</td>\n",
       "    </tr>\n",
       "    <tr>\n",
       "      <th>3</th>\n",
       "      <td>31</td>\n",
       "      <td>65</td>\n",
       "      <td>4</td>\n",
       "      <td>1</td>\n",
       "    </tr>\n",
       "    <tr>\n",
       "      <th>4</th>\n",
       "      <td>33</td>\n",
       "      <td>58</td>\n",
       "      <td>10</td>\n",
       "      <td>1</td>\n",
       "    </tr>\n",
       "    <tr>\n",
       "      <th>5</th>\n",
       "      <td>33</td>\n",
       "      <td>60</td>\n",
       "      <td>0</td>\n",
       "      <td>1</td>\n",
       "    </tr>\n",
       "    <tr>\n",
       "      <th>6</th>\n",
       "      <td>34</td>\n",
       "      <td>59</td>\n",
       "      <td>0</td>\n",
       "      <td>2</td>\n",
       "    </tr>\n",
       "    <tr>\n",
       "      <th>7</th>\n",
       "      <td>34</td>\n",
       "      <td>66</td>\n",
       "      <td>9</td>\n",
       "      <td>2</td>\n",
       "    </tr>\n",
       "    <tr>\n",
       "      <th>8</th>\n",
       "      <td>34</td>\n",
       "      <td>58</td>\n",
       "      <td>30</td>\n",
       "      <td>1</td>\n",
       "    </tr>\n",
       "  </tbody>\n",
       "</table>\n",
       "</div>"
      ],
      "text/plain": [
       "   Age of patient  Patients year of operation  Number of positive axillary  \\\n",
       "0              30                          62                            3   \n",
       "1              30                          65                            0   \n",
       "2              31                          59                            2   \n",
       "3              31                          65                            4   \n",
       "4              33                          58                           10   \n",
       "5              33                          60                            0   \n",
       "6              34                          59                            0   \n",
       "7              34                          66                            9   \n",
       "8              34                          58                           30   \n",
       "\n",
       "   Survival status  \n",
       "0                1  \n",
       "1                1  \n",
       "2                1  \n",
       "3                1  \n",
       "4                1  \n",
       "5                1  \n",
       "6                2  \n",
       "7                2  \n",
       "8                1  "
      ]
     },
     "execution_count": 9,
     "metadata": {},
     "output_type": "execute_result"
    }
   ],
   "source": [
    "# importing required libraies\n",
    "import pandas as pd\n",
    "import numpy as np\n",
    "import seaborn as sns #visualisation\n",
    "import matplotlib.pyplot as plt #drawing library\n",
    "from sklearn import datasets\n",
    "%matplotlib inline \n",
    "sns.set(color_codes=True)\n",
    "dataset=pd.read_csv(r'C:\\Users\\2\\Desktop\\theProject\\haberman.data'\n",
    "                    , delimiter=',',\n",
    "                        header=0,\n",
    "                       names=['Age of patient',\n",
    "                              'Patients year of operation',\n",
    "                              'Number of positive axillary',\n",
    "                              'Survival status']\n",
    "                        )\n",
    "dataset.head(9)\n"
   ]
  },
  {
   "cell_type": "code",
   "execution_count": 10,
   "metadata": {},
   "outputs": [
    {
     "name": "stdout",
     "output_type": "stream",
     "text": [
      "(305, 4)\n"
     ]
    }
   ],
   "source": [
    "## 8 columns and 100 attribute\n",
    "print(dataset.shape)"
   ]
  },
  {
   "cell_type": "code",
   "execution_count": 11,
   "metadata": {},
   "outputs": [
    {
     "name": "stdout",
     "output_type": "stream",
     "text": [
      "       Age of patient  Patients year of operation  \\\n",
      "count      305.000000                  305.000000   \n",
      "mean        52.531148                   62.849180   \n",
      "std         10.744024                    3.254078   \n",
      "min         30.000000                   58.000000   \n",
      "25%         44.000000                   60.000000   \n",
      "50%         52.000000                   63.000000   \n",
      "75%         61.000000                   66.000000   \n",
      "max         83.000000                   69.000000   \n",
      "\n",
      "       Number of positive axillary  Survival status  \n",
      "count                   305.000000       305.000000  \n",
      "mean                      4.036066         1.265574  \n",
      "std                       7.199370         0.442364  \n",
      "min                       0.000000         1.000000  \n",
      "25%                       0.000000         1.000000  \n",
      "50%                       1.000000         1.000000  \n",
      "75%                       4.000000         2.000000  \n",
      "max                      52.000000         2.000000  \n"
     ]
    }
   ],
   "source": [
    "## count,mean,standard div,min, quartile for each attribute\n",
    "print(dataset.describe())"
   ]
  },
  {
   "cell_type": "code",
   "execution_count": 45,
   "metadata": {
    "scrolled": true
   },
   "outputs": [
    {
     "name": "stderr",
     "output_type": "stream",
     "text": [
      "C:\\Users\\2\\anaconda3\\lib\\site-packages\\seaborn\\distributions.py:2551: FutureWarning:\n",
      "\n",
      "`distplot` is a deprecated function and will be removed in a future version. Please adapt your code to use either `displot` (a figure-level function with similar flexibility) or `histplot` (an axes-level function for histograms).\n",
      "\n",
      "C:\\Users\\2\\anaconda3\\lib\\site-packages\\seaborn\\distributions.py:2551: FutureWarning:\n",
      "\n",
      "`distplot` is a deprecated function and will be removed in a future version. Please adapt your code to use either `displot` (a figure-level function with similar flexibility) or `histplot` (an axes-level function for histograms).\n",
      "\n"
     ]
    },
    {
     "data": {
      "image/png": "[encoded data removed]",
      "text/plain": [
       "<Figure size 302.925x216 with 1 Axes>"
      ]
     },
     "metadata": {
      "needs_background": "light"
     },
     "output_type": "display_data"
    },
    {
     "name": "stderr",
     "output_type": "stream",
     "text": [
      "C:\\Users\\2\\anaconda3\\lib\\site-packages\\seaborn\\distributions.py:2551: FutureWarning:\n",
      "\n",
      "`distplot` is a deprecated function and will be removed in a future version. Please adapt your code to use either `displot` (a figure-level function with similar flexibility) or `histplot` (an axes-level function for histograms).\n",
      "\n",
      "C:\\Users\\2\\anaconda3\\lib\\site-packages\\seaborn\\distributions.py:2551: FutureWarning:\n",
      "\n",
      "`distplot` is a deprecated function and will be removed in a future version. Please adapt your code to use either `displot` (a figure-level function with similar flexibility) or `histplot` (an axes-level function for histograms).\n",
      "\n"
     ]
    },
    {
     "data": {
      "image/png": "[encoded data removed]",
      "text/plain": [
       "<Figure size 302.925x216 with 1 Axes>"
      ]
     },
     "metadata": {
      "needs_background": "light"
     },
     "output_type": "display_data"
    },
    {
     "name": "stderr",
     "output_type": "stream",
     "text": [
      "C:\\Users\\2\\anaconda3\\lib\\site-packages\\seaborn\\distributions.py:2551: FutureWarning:\n",
      "\n",
      "`distplot` is a deprecated function and will be removed in a future version. Please adapt your code to use either `displot` (a figure-level function with similar flexibility) or `histplot` (an axes-level function for histograms).\n",
      "\n",
      "C:\\Users\\2\\anaconda3\\lib\\site-packages\\seaborn\\distributions.py:2551: FutureWarning:\n",
      "\n",
      "`distplot` is a deprecated function and will be removed in a future version. Please adapt your code to use either `displot` (a figure-level function with similar flexibility) or `histplot` (an axes-level function for histograms).\n",
      "\n"
     ]
    },
    {
     "data": {
      "image/png": "[encoded data removed]",
      "text/plain": [
       "<Figure size 302.925x216 with 1 Axes>"
      ]
     },
     "metadata": {
      "needs_background": "light"
     },
     "output_type": "display_data"
    }
   ],
   "source": [
    "for ojha, feature in enumerate(list(dataset.columns)[:-1]):\n",
    "    fg = sns.FacetGrid(dataset, hue='Survival status', height=3)\n",
    "    fg.map(sns.distplot, feature).add_legend()\n",
    "    plt.show()"
   ]
  },
  {
   "cell_type": "code",
   "execution_count": 13,
   "metadata": {
    "scrolled": true
   },
   "outputs": [
    {
     "data": {
      "image/png": "[encoded data removed]",
      "text/plain": [
       "<Figure size 432x288 with 1 Axes>"
      ]
     },
     "metadata": {},
     "output_type": "display_data"
    },
    {
     "data": {
      "image/png": "[encoded data removed]",
      "text/plain": [
       "<Figure size 432x288 with 1 Axes>"
      ]
     },
     "metadata": {},
     "output_type": "display_data"
    },
    {
     "data": {
      "image/png": "[encoded data removed]",
      "text/plain": [
       "<Figure size 432x288 with 1 Axes>"
      ]
     },
     "metadata": {},
     "output_type": "display_data"
    }
   ],
   "source": [
    "sns.boxplot(x='Survival status', y='Age of patient', data=dataset)\n",
    "plt.show()\n",
    "sns.boxplot(x='Survival status', y='Patients year of operation', data=dataset)\n",
    "plt.show()\n",
    "sns.boxplot(x='Survival status', y='Number of positive axillary', data=dataset)\n",
    "plt.show()\n",
    "\n"
   ]
  },
  {
   "cell_type": "code",
   "execution_count": 14,
   "metadata": {
    "scrolled": true
   },
   "outputs": [
    {
     "data": {
      "image/png": "[encoded data removed]",
      "text/plain": [
       "<Figure size 432x288 with 1 Axes>"
      ]
     },
     "metadata": {},
     "output_type": "display_data"
    }
   ],
   "source": [
    "sns.boxplot(x='Survival status', y='Number of positive axillary', data=dataset)\n",
    "plt.show()\n"
   ]
  },
  {
   "cell_type": "code",
   "execution_count": 47,
   "metadata": {},
   "outputs": [
    {
     "data": {
      "image/png": "[encoded data removed]",
      "text/plain": [
       "<Figure size 432x288 with 1 Axes>"
      ]
     },
     "metadata": {
      "needs_background": "light"
     },
     "output_type": "display_data"
    }
   ],
   "source": [
    " sns.boxplot(x='Survival status', y='Age of patient', data=dataset)\n",
    "plt.show() "
   ]
  },
  {
   "cell_type": "code",
   "execution_count": 48,
   "metadata": {},
   "outputs": [
    {
     "data": {
      "image/png": "[encoded data removed]",
      "text/plain": [
       "<Figure size 432x288 with 1 Axes>"
      ]
     },
     "metadata": {
      "needs_background": "light"
     },
     "output_type": "display_data"
    }
   ],
   "source": [
    "sns.violinplot(x='Survival status', y='Age of patient', data=dataset)\n",
    "plt.show()"
   ]
  },
  {
   "cell_type": "code",
   "execution_count": 69,
   "metadata": {},
   "outputs": [
    {
     "data": {
      "text/plain": [
       "<function matplotlib.pyplot.show(close=None, block=None)>"
      ]
     },
     "execution_count": 69,
     "metadata": {},
     "output_type": "execute_result"
    },
    {
     "data": {
      "image/png": "[encoded data removed]",
      "text/plain": [
       "<Figure size 432x288 with 1 Axes>"
      ]
     },
     "metadata": {
      "needs_background": "light"
     },
     "output_type": "display_data"
    }
   ],
   "source": [
    "data=dataset.plot(kind='scatter',x='Age of patient',y='Number of positive axillary',c= 'g')\n",
    "plt.show"
   ]
  },
  {
   "cell_type": "code",
   "execution_count": 49,
   "metadata": {},
   "outputs": [
    {
     "data": {
      "image/png": "[encoded data removed]",
      "text/plain": [
       "<Figure size 302.925x216 with 1 Axes>"
      ]
     },
     "metadata": {},
     "output_type": "display_data"
    }
   ],
   "source": [
    "sns.set_style(\"whitegrid\")\n",
    "sns.FacetGrid(dataset, hue=\"Survival status\",height=3) \\\n",
    "    .map(plt.scatter, \"Age of patient\",\"Patients year of operation\") \\\n",
    "    .add_legend();\n",
    "plt.show();"
   ]
  },
  {
   "cell_type": "code",
   "execution_count": 20,
   "metadata": {},
   "outputs": [
    {
     "name": "stderr",
     "output_type": "stream",
     "text": [
      "C:\\Users\\2\\anaconda3\\lib\\site-packages\\seaborn\\axisgrid.py:1912: UserWarning: The `size` parameter has been renamed to `height`; please update your code.\n",
      "  warnings.warn(msg, UserWarning)\n"
     ]
    },
    {
     "data": {
      "image/png": "[encoded data removed]",
      "text/plain": [
       "<Figure size 518.925x432 with 12 Axes>"
      ]
     },
     "metadata": {},
     "output_type": "display_data"
    }
   ],
   "source": [
    "sns.set_style(\"whitegrid\");\n",
    "sns.pairplot(dataset, hue = 'Survival status', diag_kind = 'kde',\n",
    "              plot_kws = {'alpha': 0.3, 's': 30, 'edgecolor': 'k'}, size =2)\n",
    "plt.show()"
   ]
  },
  {
   "cell_type": "code",
   "execution_count": 21,
   "metadata": {},
   "outputs": [
    {
     "data": {
      "text/plain": [
       "Age of patient                 0\n",
       "Patients year of operation     0\n",
       "Number of positive axillary    0\n",
       "Survival status                0\n",
       "dtype: int64"
      ]
     },
     "execution_count": 21,
     "metadata": {},
     "output_type": "execute_result"
    }
   ],
   "source": [
    "dataset.isnull().sum()"
   ]
  },
  {
   "cell_type": "code",
   "execution_count": 50,
   "metadata": {},
   "outputs": [],
   "source": [
    "import pandas as pd\n",
    "import numpy as np\n",
    "import seaborn as sns\n",
    "import matplotlib.pyplot as plt\n",
    "from sklearn import datasets\n",
    "%matplotlib inline \n",
    "get_ipython().run_line_magic('matplotlib', 'inline')\n",
    "sns.set(color_codes=True)\n",
    "from sklearn.preprocessing import StandardScaler, MinMaxScaler\n",
    "import pandas as pd"
   ]
  },
  {
   "cell_type": "code",
   "execution_count": 51,
   "metadata": {},
   "outputs": [],
   "source": [
    "data=pd.DataFrame(dataset,columns=['Age of patient','Patients year of operation','Number of positive axillary'])\n",
    "\n",
    "\n",
    "\n",
    "data['target']=dataset['Survival status']\n"
   ]
  },
  {
   "cell_type": "code",
   "execution_count": 52,
   "metadata": {},
   "outputs": [
    {
     "data": {
      "text/html": [
       "<div>\n",
       "<style scoped>\n",
       "    .dataframe tbody tr th:only-of-type {\n",
       "        vertical-align: middle;\n",
       "    }\n",
       "\n",
       "    .dataframe tbody tr th {\n",
       "        vertical-align: top;\n",
       "    }\n",
       "\n",
       "    .dataframe thead th {\n",
       "        text-align: right;\n",
       "    }\n",
       "</style>\n",
       "<table border=\"1\" class=\"dataframe\">\n",
       "  <thead>\n",
       "    <tr style=\"text-align: right;\">\n",
       "      <th></th>\n",
       "      <th>Age of patient</th>\n",
       "      <th>Patients year of operation</th>\n",
       "      <th>Number of positive axillary</th>\n",
       "      <th>target</th>\n",
       "    </tr>\n",
       "  </thead>\n",
       "  <tbody>\n",
       "    <tr>\n",
       "      <th>count</th>\n",
       "      <td>305.000000</td>\n",
       "      <td>305.000000</td>\n",
       "      <td>305.000000</td>\n",
       "      <td>305.000000</td>\n",
       "    </tr>\n",
       "    <tr>\n",
       "      <th>mean</th>\n",
       "      <td>52.531148</td>\n",
       "      <td>62.849180</td>\n",
       "      <td>4.036066</td>\n",
       "      <td>1.265574</td>\n",
       "    </tr>\n",
       "    <tr>\n",
       "      <th>std</th>\n",
       "      <td>10.744024</td>\n",
       "      <td>3.254078</td>\n",
       "      <td>7.199370</td>\n",
       "      <td>0.442364</td>\n",
       "    </tr>\n",
       "    <tr>\n",
       "      <th>min</th>\n",
       "      <td>30.000000</td>\n",
       "      <td>58.000000</td>\n",
       "      <td>0.000000</td>\n",
       "      <td>1.000000</td>\n",
       "    </tr>\n",
       "    <tr>\n",
       "      <th>25%</th>\n",
       "      <td>44.000000</td>\n",
       "      <td>60.000000</td>\n",
       "      <td>0.000000</td>\n",
       "      <td>1.000000</td>\n",
       "    </tr>\n",
       "    <tr>\n",
       "      <th>50%</th>\n",
       "      <td>52.000000</td>\n",
       "      <td>63.000000</td>\n",
       "      <td>1.000000</td>\n",
       "      <td>1.000000</td>\n",
       "    </tr>\n",
       "    <tr>\n",
       "      <th>75%</th>\n",
       "      <td>61.000000</td>\n",
       "      <td>66.000000</td>\n",
       "      <td>4.000000</td>\n",
       "      <td>2.000000</td>\n",
       "    </tr>\n",
       "    <tr>\n",
       "      <th>max</th>\n",
       "      <td>83.000000</td>\n",
       "      <td>69.000000</td>\n",
       "      <td>52.000000</td>\n",
       "      <td>2.000000</td>\n",
       "    </tr>\n",
       "  </tbody>\n",
       "</table>\n",
       "</div>"
      ],
      "text/plain": [
       "       Age of patient  Patients year of operation  \\\n",
       "count      305.000000                  305.000000   \n",
       "mean        52.531148                   62.849180   \n",
       "std         10.744024                    3.254078   \n",
       "min         30.000000                   58.000000   \n",
       "25%         44.000000                   60.000000   \n",
       "50%         52.000000                   63.000000   \n",
       "75%         61.000000                   66.000000   \n",
       "max         83.000000                   69.000000   \n",
       "\n",
       "       Number of positive axillary      target  \n",
       "count                   305.000000  305.000000  \n",
       "mean                      4.036066    1.265574  \n",
       "std                       7.199370    0.442364  \n",
       "min                       0.000000    1.000000  \n",
       "25%                       0.000000    1.000000  \n",
       "50%                       1.000000    1.000000  \n",
       "75%                       4.000000    2.000000  \n",
       "max                      52.000000    2.000000  "
      ]
     },
     "execution_count": 52,
     "metadata": {},
     "output_type": "execute_result"
    }
   ],
   "source": [
    "data.describe()"
   ]
  },
  {
   "cell_type": "code",
   "execution_count": 53,
   "metadata": {
    "scrolled": true
   },
   "outputs": [
    {
     "data": {
      "text/plain": [
       "Age of patient                 0\n",
       "Patients year of operation     0\n",
       "Number of positive axillary    0\n",
       "target                         0\n",
       "dtype: int64"
      ]
     },
     "execution_count": 53,
     "metadata": {},
     "output_type": "execute_result"
    }
   ],
   "source": [
    "data.isnull().sum()\n"
   ]
  },
  {
   "cell_type": "code",
   "execution_count": 54,
   "metadata": {},
   "outputs": [],
   "source": [
    "\n",
    "from sklearn.preprocessing import StandardScaler, MinMaxScaler\n",
    "import pandas as pd\n",
    "PCA_df = pd.read_csv(r'C:\\Users\\2\\Desktop\\theProject\\haberman.data',\n",
    "                        delimiter=',',\n",
    "                        header=0,\n",
    "                     names=['Age of patient',\n",
    "                        'Patients year of operation',\n",
    "                        'Number of positive axillary',\n",
    "                        'target'\n",
    "                        ])"
   ]
  },
  {
   "cell_type": "code",
   "execution_count": 55,
   "metadata": {},
   "outputs": [
    {
     "data": {
      "text/html": [
       "<div>\n",
       "<style scoped>\n",
       "    .dataframe tbody tr th:only-of-type {\n",
       "        vertical-align: middle;\n",
       "    }\n",
       "\n",
       "    .dataframe tbody tr th {\n",
       "        vertical-align: top;\n",
       "    }\n",
       "\n",
       "    .dataframe thead th {\n",
       "        text-align: right;\n",
       "    }\n",
       "</style>\n",
       "<table border=\"1\" class=\"dataframe\">\n",
       "  <thead>\n",
       "    <tr style=\"text-align: right;\">\n",
       "      <th></th>\n",
       "      <th>Age of patient</th>\n",
       "      <th>Patients year of operation</th>\n",
       "      <th>Number of positive axillary</th>\n",
       "      <th>target</th>\n",
       "    </tr>\n",
       "  </thead>\n",
       "  <tbody>\n",
       "    <tr>\n",
       "      <th>0</th>\n",
       "      <td>30</td>\n",
       "      <td>62</td>\n",
       "      <td>3</td>\n",
       "      <td>1</td>\n",
       "    </tr>\n",
       "    <tr>\n",
       "      <th>1</th>\n",
       "      <td>30</td>\n",
       "      <td>65</td>\n",
       "      <td>0</td>\n",
       "      <td>1</td>\n",
       "    </tr>\n",
       "    <tr>\n",
       "      <th>2</th>\n",
       "      <td>31</td>\n",
       "      <td>59</td>\n",
       "      <td>2</td>\n",
       "      <td>1</td>\n",
       "    </tr>\n",
       "    <tr>\n",
       "      <th>3</th>\n",
       "      <td>31</td>\n",
       "      <td>65</td>\n",
       "      <td>4</td>\n",
       "      <td>1</td>\n",
       "    </tr>\n",
       "    <tr>\n",
       "      <th>4</th>\n",
       "      <td>33</td>\n",
       "      <td>58</td>\n",
       "      <td>10</td>\n",
       "      <td>1</td>\n",
       "    </tr>\n",
       "  </tbody>\n",
       "</table>\n",
       "</div>"
      ],
      "text/plain": [
       "   Age of patient  Patients year of operation  Number of positive axillary  \\\n",
       "0              30                          62                            3   \n",
       "1              30                          65                            0   \n",
       "2              31                          59                            2   \n",
       "3              31                          65                            4   \n",
       "4              33                          58                           10   \n",
       "\n",
       "   target  \n",
       "0       1  \n",
       "1       1  \n",
       "2       1  \n",
       "3       1  \n",
       "4       1  "
      ]
     },
     "execution_count": 55,
     "metadata": {},
     "output_type": "execute_result"
    }
   ],
   "source": [
    "PCA_df.head()\n"
   ]
  },
  {
   "cell_type": "code",
   "execution_count": 56,
   "metadata": {},
   "outputs": [
    {
     "name": "stdout",
     "output_type": "stream",
     "text": [
      "[[-2.10053274e+00 -2.61387704e-01 -1.44147084e-01]\n",
      " [-2.10053274e+00  6.62047621e-01 -5.61535003e-01]\n",
      " [-2.00730479e+00 -1.18482303e+00 -2.83276391e-01]\n",
      " [-2.00730479e+00  6.62047621e-01 -5.01777826e-03]\n",
      " [-1.82084888e+00 -1.49263480e+00  8.29758059e-01]\n",
      " [-1.82084888e+00 -8.77011254e-01 -5.61535003e-01]\n",
      " [-1.72762093e+00 -1.18482303e+00 -5.61535003e-01]\n",
      " [-1.72762093e+00  9.69859396e-01  6.90628753e-01]\n",
      " [-1.72762093e+00 -1.49263480e+00  3.61234418e+00]\n",
      " [-1.72762093e+00 -8.77011254e-01 -4.22405697e-01]\n",
      " [-1.72762093e+00 -5.69199479e-01  8.29758059e-01]\n",
      " [-1.72762093e+00  1.27767117e+00  4.12370140e-01]\n",
      " [-1.72762093e+00 -8.77011254e-01 -5.61535003e-01]\n",
      " [-1.63439298e+00  3.54235846e-01  1.24714598e+00]\n",
      " [-1.63439298e+00  4.64240710e-02 -5.61535003e-01]\n",
      " [-1.54116503e+00 -8.77011254e-01 -4.22405697e-01]\n",
      " [-1.54116503e+00  1.89329472e+00 -5.61535003e-01]\n",
      " [-1.44793708e+00 -8.77011254e-01 -5.61535003e-01]\n",
      " [-1.44793708e+00  4.64240710e-02 -5.61535003e-01]\n",
      " [-1.44793708e+00 -1.49263480e+00 -5.61535003e-01]\n",
      " [-1.44793708e+00 -1.18482303e+00  2.73240834e-01]\n",
      " [-1.44793708e+00 -8.77011254e-01  1.52540459e+00]\n",
      " [-1.44793708e+00  4.64240710e-02 -5.61535003e-01]\n",
      " [-1.35470912e+00  1.89329472e+00  2.36018043e+00]\n",
      " [-1.35470912e+00 -1.18482303e+00 -2.83276391e-01]\n",
      " [-1.35470912e+00 -8.77011254e-01 -5.61535003e-01]\n",
      " [-1.35470912e+00 -8.77011254e-01 -5.61535003e-01]\n",
      " [-1.35470912e+00 -2.61387704e-01 -1.44147084e-01]\n",
      " [-1.35470912e+00  3.54235846e-01 -4.22405697e-01]\n",
      " [-1.35470912e+00  9.69859396e-01 -5.61535003e-01]\n",
      " [-1.35470912e+00  9.69859396e-01  9.68887365e-01]\n",
      " [-1.35470912e+00 -8.77011254e-01 -4.22405697e-01]\n",
      " [-1.35470912e+00  1.27767117e+00  1.34111528e-01]\n",
      " [-1.26148117e+00  9.69859396e-01 -5.61535003e-01]\n",
      " [-1.26148117e+00  4.64240710e-02 -5.61535003e-01]\n",
      " [-1.26148117e+00  1.27767117e+00 -5.61535003e-01]\n",
      " [-1.26148117e+00 -1.49263480e+00 -5.61535003e-01]\n",
      " [-1.26148117e+00 -1.18482303e+00 -2.83276391e-01]\n",
      " [-1.26148117e+00  4.64240710e-02 -5.01777826e-03]\n",
      " [-1.16825322e+00 -1.49263480e+00 -2.83276391e-01]\n",
      " [-1.16825322e+00 -1.49263480e+00 -5.61535003e-01]\n",
      " [-1.16825322e+00  6.62047621e-01 -5.61535003e-01]\n",
      " [-1.07502527e+00 -8.77011254e-01  2.63843904e+00]\n",
      " [-1.07502527e+00  3.54235846e-01 -5.61535003e-01]\n",
      " [-1.07502527e+00  1.27767117e+00 -5.61535003e-01]\n",
      " [-1.07502527e+00 -1.49263480e+00 -5.61535003e-01]\n",
      " [-1.07502527e+00 -1.18482303e+00  5.51499447e-01]\n",
      " [-1.07502527e+00 -1.18482303e+00 -5.61535003e-01]\n",
      " [-1.07502527e+00  3.54235846e-01 -5.61535003e-01]\n",
      " [-1.07502527e+00  1.89329472e+00  5.51499447e-01]\n",
      " [-1.07502527e+00  6.62047621e-01 -5.61535003e-01]\n",
      " [-1.07502527e+00  6.62047621e-01 -5.61535003e-01]\n",
      " [-9.81797316e-01  1.89329472e+00 -4.22405697e-01]\n",
      " [-9.81797316e-01 -1.18482303e+00 -5.61535003e-01]\n",
      " [-9.81797316e-01 -1.49263480e+00 -5.61535003e-01]\n",
      " [-9.81797316e-01 -8.77011254e-01 -4.22405697e-01]\n",
      " [-9.81797316e-01 -1.18482303e+00 -2.83276391e-01]\n",
      " [-9.81797316e-01 -5.69199479e-01 -5.01777826e-03]\n",
      " [-9.81797316e-01 -2.61387704e-01  2.22105112e+00]\n",
      " [-9.81797316e-01  6.62047621e-01 -5.61535003e-01]\n",
      " [-9.81797316e-01  4.64240710e-02 -4.22405697e-01]\n",
      " [-8.88569364e-01 -1.49263480e+00  6.67318892e+00]\n",
      " [-8.88569364e-01 -1.18482303e+00 -2.83276391e-01]\n",
      " [-8.88569364e-01  3.54235846e-01 -5.61535003e-01]\n",
      " [-8.88569364e-01  3.54235846e-01 -5.61535003e-01]\n",
      " [-8.88569364e-01  4.64240710e-02  1.38627528e+00]\n",
      " [-8.88569364e-01  3.54235846e-01 -2.83276391e-01]\n",
      " [-8.88569364e-01  3.54235846e-01 -1.44147084e-01]\n",
      " [-8.88569364e-01 -8.77011254e-01 -5.61535003e-01]\n",
      " [-8.88569364e-01  4.64240710e-02 -2.83276391e-01]\n",
      " [-8.88569364e-01  6.62047621e-01 -5.61535003e-01]\n",
      " [-8.88569364e-01  9.69859396e-01 -5.01777826e-03]\n",
      " [-7.95341412e-01  3.54235846e-01  2.73240834e-01]\n",
      " [-7.95341412e-01 -1.49263480e+00  6.90628753e-01]\n",
      " [-7.95341412e-01  4.64240710e-02  2.08192181e+00]\n",
      " [-7.95341412e-01 -5.69199479e-01 -5.61535003e-01]\n",
      " [-7.95341412e-01  4.64240710e-02 -4.22405697e-01]\n",
      " [-7.95341412e-01 -5.69199479e-01 -5.61535003e-01]\n",
      " [-7.95341412e-01  1.27767117e+00  1.66453390e+00]\n",
      " [-7.02113461e-01  6.62047621e-01  2.73240834e-01]\n",
      " [-7.02113461e-01  9.69859396e-01 -5.61535003e-01]\n",
      " [-7.02113461e-01  1.27767117e+00 -4.22405697e-01]\n",
      " [-7.02113461e-01 -8.77011254e-01 -5.61535003e-01]\n",
      " [-7.02113461e-01  1.27767117e+00 -5.61535003e-01]\n",
      " [-7.02113461e-01 -1.18482303e+00  1.38627528e+00]\n",
      " [-7.02113461e-01  3.54235846e-01 -5.61535003e-01]\n",
      " [-7.02113461e-01  1.58548295e+00 -5.61535003e-01]\n",
      " [-7.02113461e-01  1.27767117e+00 -4.22405697e-01]\n",
      " [-6.08885509e-01 -1.49263480e+00 -2.83276391e-01]\n",
      " [-6.08885509e-01  1.89329472e+00 -1.44147084e-01]\n",
      " [-6.08885509e-01 -2.61387704e-01  1.34111528e-01]\n",
      " [-6.08885509e-01  6.62047621e-01  2.22105112e+00]\n",
      " [-6.08885509e-01 -2.61387704e-01 -5.61535003e-01]\n",
      " [-6.08885509e-01 -1.49263480e+00 -1.44147084e-01]\n",
      " [-6.08885509e-01  4.64240710e-02 -5.61535003e-01]\n",
      " [-5.15657557e-01  4.64240710e-02  2.63843904e+00]\n",
      " [-5.15657557e-01 -2.61387704e-01 -5.61535003e-01]\n",
      " [-5.15657557e-01  6.62047621e-01 -5.61535003e-01]\n",
      " [-5.15657557e-01 -5.69199479e-01 -5.61535003e-01]\n",
      " [-5.15657557e-01  4.64240710e-02  2.73240834e-01]\n",
      " [-5.15657557e-01  9.69859396e-01 -5.61535003e-01]\n",
      " [-5.15657557e-01  1.27767117e+00 -5.61535003e-01]\n",
      " [-5.15657557e-01 -1.49263480e+00 -1.44147084e-01]\n",
      " [-5.15657557e-01 -8.77011254e-01 -5.01777826e-03]\n",
      " [-5.15657557e-01  1.58548295e+00 -5.01777826e-03]\n",
      " [-5.15657557e-01  9.69859396e-01  1.10801667e+00]\n",
      " [-4.22429605e-01 -1.49263480e+00  9.68887365e-01]\n",
      " [-4.22429605e-01 -1.49263480e+00  9.68887365e-01]\n",
      " [-4.22429605e-01  1.27767117e+00  4.12370140e-01]\n",
      " [-4.22429605e-01 -5.69199479e-01  5.51499447e-01]\n",
      " [-4.22429605e-01 -2.61387704e-01 -2.83276391e-01]\n",
      " [-4.22429605e-01  3.54235846e-01 -5.61535003e-01]\n",
      " [-4.22429605e-01  9.69859396e-01 -5.61535003e-01]\n",
      " [-3.29201653e-01  4.64240710e-02 -5.61535003e-01]\n",
      " [-3.29201653e-01  3.54235846e-01  8.29758059e-01]\n",
      " [-3.29201653e-01 -5.69199479e-01 -4.22405697e-01]\n",
      " [-3.29201653e-01 -2.61387704e-01 -5.61535003e-01]\n",
      " [-3.29201653e-01  9.69859396e-01 -5.61535003e-01]\n",
      " [-3.29201653e-01 -8.77011254e-01 -4.22405697e-01]\n",
      " [-3.29201653e-01 -2.61387704e-01 -4.22405697e-01]\n",
      " [-3.29201653e-01  4.64240710e-02 -1.44147084e-01]\n",
      " [-3.29201653e-01 -5.69199479e-01 -5.61535003e-01]\n",
      " [-3.29201653e-01  1.27767117e+00 -4.22405697e-01]\n",
      " [-2.35973701e-01  4.64240710e-02  1.24714598e+00]\n",
      " [-2.35973701e-01  3.54235846e-01 -5.61535003e-01]\n",
      " [-2.35973701e-01 -1.18482303e+00 -5.61535003e-01]\n",
      " [-2.35973701e-01 -5.69199479e-01  2.73240834e-01]\n",
      " [-2.35973701e-01 -5.69199479e-01 -5.61535003e-01]\n",
      " [-2.35973701e-01  4.64240710e-02 -4.22405697e-01]\n",
      " [-2.35973701e-01 -1.49263480e+00 -4.22405697e-01]\n",
      " [-2.35973701e-01 -1.18482303e+00 -2.83276391e-01]\n",
      " [-2.35973701e-01 -5.69199479e-01 -5.61535003e-01]\n",
      " [-2.35973701e-01  3.54235846e-01 -5.61535003e-01]\n",
      " [-2.35973701e-01  6.62047621e-01 -5.01777826e-03]\n",
      " [-2.35973701e-01  9.69859396e-01 -4.22405697e-01]\n",
      " [-1.42745749e-01 -1.18482303e+00  1.24714598e+00]\n",
      " [-1.42745749e-01 -1.18482303e+00 -1.44147084e-01]\n",
      " [-1.42745749e-01  3.54235846e-01  4.12370140e-01]\n",
      " [-1.42745749e-01 -1.18482303e+00 -4.22405697e-01]\n",
      " [-1.42745749e-01  6.62047621e-01 -5.61535003e-01]\n",
      " [-1.42745749e-01  9.69859396e-01 -4.22405697e-01]\n",
      " [-4.95177974e-02  1.89329472e+00 -1.44147084e-01]\n",
      " [-4.95177974e-02 -1.18482303e+00 -2.83276391e-01]\n",
      " [-4.95177974e-02 -2.61387704e-01 -1.44147084e-01]\n",
      " [-4.95177974e-02  9.69859396e-01 -5.01777826e-03]\n",
      " [-4.95177974e-02 -5.69199479e-01 -5.61535003e-01]\n",
      " [-4.95177974e-02  4.64240710e-02 -5.01777826e-03]\n",
      " [-4.95177974e-02  1.89329472e+00 -5.61535003e-01]\n",
      " [-4.95177974e-02 -8.77011254e-01 -5.01777826e-03]\n",
      " [-4.95177974e-02 -8.77011254e-01  1.34111528e-01]\n",
      " [-4.95177974e-02 -2.61387704e-01 -5.61535003e-01]\n",
      " [-4.95177974e-02 -2.61387704e-01 -4.22405697e-01]\n",
      " [-4.95177974e-02  3.54235846e-01 -5.61535003e-01]\n",
      " [-4.95177974e-02  6.62047621e-01 -5.61535003e-01]\n",
      " [-4.95177974e-02  1.58548295e+00 -5.61535003e-01]\n",
      " [ 4.37101545e-02 -1.49263480e+00 -5.01777826e-03]\n",
      " [ 4.37101545e-02  6.62047621e-01 -4.22405697e-01]\n",
      " [ 4.37101545e-02 -1.18482303e+00 -1.44147084e-01]\n",
      " [ 4.37101545e-02 -8.77011254e-01  6.90628753e-01]\n",
      " [ 4.37101545e-02  4.64240710e-02  2.77756835e+00]\n",
      " [ 4.37101545e-02  6.62047621e-01  1.10801667e+00]\n",
      " [ 4.37101545e-02 -1.49263480e+00 -4.22405697e-01]\n",
      " [ 4.37101545e-02 -8.77011254e-01 -4.22405697e-01]\n",
      " [ 4.37101545e-02 -8.77011254e-01 -2.83276391e-01]\n",
      " [ 4.37101545e-02 -5.69199479e-01 -4.22405697e-01]\n",
      " [ 4.37101545e-02  4.64240710e-02 -5.61535003e-01]\n",
      " [ 1.36938106e-01 -8.77011254e-01  9.68887365e-01]\n",
      " [ 1.36938106e-01  6.62047621e-01  2.63843904e+00]\n",
      " [ 1.36938106e-01  6.62047621e-01  1.34111528e-01]\n",
      " [ 1.36938106e-01  1.58548295e+00  4.12370140e-01]\n",
      " [ 1.36938106e-01 -1.18482303e+00  4.12370140e-01]\n",
      " [ 1.36938106e-01 -8.77011254e-01 -1.44147084e-01]\n",
      " [ 1.36938106e-01  9.69859396e-01 -5.61535003e-01]\n",
      " [ 1.36938106e-01  1.27767117e+00  5.83841308e+00]\n",
      " [ 1.36938106e-01 -2.61387704e-01 -5.61535003e-01]\n",
      " [ 1.36938106e-01  1.89329472e+00  4.12370140e-01]\n",
      " [ 1.36938106e-01  4.64240710e-02  2.08192181e+00]\n",
      " [ 1.36938106e-01 -1.49263480e+00 -4.22405697e-01]\n",
      " [ 1.36938106e-01 -2.61387704e-01 -5.61535003e-01]\n",
      " [ 2.30166058e-01  4.64240710e-02  2.73240834e-01]\n",
      " [ 2.30166058e-01  1.58548295e+00  1.52540459e+00]\n",
      " [ 2.30166058e-01 -1.49263480e+00 -4.22405697e-01]\n",
      " [ 2.30166058e-01 -1.49263480e+00 -5.61535003e-01]\n",
      " [ 2.30166058e-01 -1.49263480e+00 -4.22405697e-01]\n",
      " [ 2.30166058e-01  9.69859396e-01  1.94279251e+00]\n",
      " [ 2.30166058e-01  9.69859396e-01 -5.61535003e-01]\n",
      " [ 2.30166058e-01  1.89329472e+00 -1.44147084e-01]\n",
      " [ 2.30166058e-01  1.89329472e+00  2.49930973e+00]\n",
      " [ 2.30166058e-01  1.27767117e+00 -4.22405697e-01]\n",
      " [ 3.23394010e-01  6.62047621e-01  6.90628753e-01]\n",
      " [ 3.23394010e-01  9.69859396e-01 -1.44147084e-01]\n",
      " [ 3.23394010e-01 -8.77011254e-01 -5.61535003e-01]\n",
      " [ 3.23394010e-01  9.69859396e-01 -2.83276391e-01]\n",
      " [ 3.23394010e-01  9.69859396e-01 -4.22405697e-01]\n",
      " [ 3.23394010e-01  1.27767117e+00 -5.61535003e-01]\n",
      " [ 3.23394010e-01 -8.77011254e-01 -5.61535003e-01]\n",
      " [ 4.16621962e-01 -5.69199479e-01  1.34111528e-01]\n",
      " [ 4.16621962e-01 -2.61387704e-01  1.38627528e+00]\n",
      " [ 4.16621962e-01  3.54235846e-01 -4.22405697e-01]\n",
      " [ 4.16621962e-01  3.54235846e-01  6.90628753e-01]\n",
      " [ 4.16621962e-01  1.89329472e+00 -5.61535003e-01]\n",
      " [ 4.16621962e-01 -5.69199479e-01 -5.61535003e-01]\n",
      " [ 4.16621962e-01 -2.61387704e-01 -5.61535003e-01]\n",
      " [ 4.16621962e-01  4.64240710e-02 -5.61535003e-01]\n",
      " [ 4.16621962e-01  3.54235846e-01 -5.61535003e-01]\n",
      " [ 4.16621962e-01  3.54235846e-01 -5.61535003e-01]\n",
      " [ 4.16621962e-01  1.27767117e+00 -5.61535003e-01]\n",
      " [ 5.09849914e-01 -1.18482303e+00 -5.61535003e-01]\n",
      " [ 5.09849914e-01 -8.77011254e-01 -1.44147084e-01]\n",
      " [ 5.09849914e-01 -5.69199479e-01 -4.22405697e-01]\n",
      " [ 5.09849914e-01  1.27767117e+00 -5.61535003e-01]\n",
      " [ 5.09849914e-01 -1.49263480e+00 -5.61535003e-01]\n",
      " [ 5.09849914e-01 -1.49263480e+00 -1.44147084e-01]\n",
      " [ 5.09849914e-01 -5.69199479e-01 -2.83276391e-01]\n",
      " [ 6.03077866e-01 -2.61387704e-01  4.30799071e+00]\n",
      " [ 6.03077866e-01 -8.77011254e-01 -5.61535003e-01]\n",
      " [ 6.03077866e-01  4.64240710e-02 -5.61535003e-01]\n",
      " [ 6.03077866e-01  3.54235846e-01 -4.22405697e-01]\n",
      " [ 6.03077866e-01  3.54235846e-01 -5.01777826e-03]\n",
      " [ 6.03077866e-01  3.54235846e-01 -5.61535003e-01]\n",
      " [ 6.03077866e-01  3.54235846e-01  4.12370140e-01]\n",
      " [ 6.03077866e-01  1.27767117e+00 -1.44147084e-01]\n",
      " [ 6.96305818e-01 -1.18482303e+00  1.80366320e+00]\n",
      " [ 6.96305818e-01  6.62047621e-01 -5.61535003e-01]\n",
      " [ 6.96305818e-01 -5.69199479e-01 -4.22405697e-01]\n",
      " [ 6.96305818e-01  1.27767117e+00 -2.83276391e-01]\n",
      " [ 6.96305818e-01 -5.69199479e-01  2.91669765e+00]\n",
      " [ 6.96305818e-01  3.54235846e-01 -5.61535003e-01]\n",
      " [ 7.89533770e-01 -2.61387704e-01  1.34111528e-01]\n",
      " [ 7.89533770e-01  6.62047621e-01 -5.61535003e-01]\n",
      " [ 7.89533770e-01  1.58548295e+00 -4.22405697e-01]\n",
      " [ 7.89533770e-01 -1.18482303e+00 -5.61535003e-01]\n",
      " [ 7.89533770e-01 -1.18482303e+00 -5.61535003e-01]\n",
      " [ 7.89533770e-01  3.54235846e-01 -5.61535003e-01]\n",
      " [ 7.89533770e-01  6.62047621e-01  5.51499447e-01]\n",
      " [ 7.89533770e-01  1.58548295e+00 -5.61535003e-01]\n",
      " [ 7.89533770e-01 -1.18482303e+00 -5.61535003e-01]\n",
      " [ 8.82761721e-01 -1.18482303e+00  1.24714598e+00]\n",
      " [ 8.82761721e-01 -1.49263480e+00 -5.61535003e-01]\n",
      " [ 8.82761721e-01  6.62047621e-01  2.08192181e+00]\n",
      " [ 8.82761721e-01 -2.61387704e-01  2.73240834e-01]\n",
      " [ 8.82761721e-01  9.69859396e-01 -5.61535003e-01]\n",
      " [ 8.82761721e-01  9.69859396e-01 -5.61535003e-01]\n",
      " [ 8.82761721e-01 -1.49263480e+00 -5.61535003e-01]\n",
      " [ 9.75989673e-01 -8.77011254e-01 -4.22405697e-01]\n",
      " [ 9.75989673e-01 -5.69199479e-01 -5.61535003e-01]\n",
      " [ 9.75989673e-01 -2.61387704e-01 -5.61535003e-01]\n",
      " [ 9.75989673e-01  4.64240710e-02 -5.61535003e-01]\n",
      " [ 9.75989673e-01  4.64240710e-02 -5.61535003e-01]\n",
      " [ 9.75989673e-01  9.69859396e-01 -5.61535003e-01]\n",
      " [ 9.75989673e-01 -5.69199479e-01  6.90628753e-01]\n",
      " [ 9.75989673e-01 -5.69199479e-01  3.33408557e+00]\n",
      " [ 1.06921763e+00 -1.49263480e+00 -5.61535003e-01]\n",
      " [ 1.06921763e+00  6.62047621e-01  2.49930973e+00]\n",
      " [ 1.06921763e+00  9.69859396e-01 -5.61535003e-01]\n",
      " [ 1.06921763e+00 -5.69199479e-01 -5.61535003e-01]\n",
      " [ 1.06921763e+00  1.58548295e+00 -5.61535003e-01]\n",
      " [ 1.16244558e+00 -1.49263480e+00 -5.61535003e-01]\n",
      " [ 1.16244558e+00 -5.69199479e-01 -2.83276391e-01]\n",
      " [ 1.16244558e+00 -2.61387704e-01  2.49930973e+00]\n",
      " [ 1.16244558e+00  9.69859396e-01  1.52540459e+00]\n",
      " [ 1.16244558e+00 -1.49263480e+00 -5.61535003e-01]\n",
      " [ 1.16244558e+00  3.54235846e-01 -5.61535003e-01]\n",
      " [ 1.16244558e+00  1.27767117e+00 -5.61535003e-01]\n",
      " [ 1.16244558e+00 -1.18482303e+00 -2.83276391e-01]\n",
      " [ 1.16244558e+00  3.54235846e-01 -5.61535003e-01]\n",
      " [ 1.16244558e+00  1.27767117e+00 -4.22405697e-01]\n",
      " [ 1.25567353e+00 -1.49263480e+00 -5.61535003e-01]\n",
      " [ 1.25567353e+00 -5.69199479e-01  1.24714598e+00]\n",
      " [ 1.25567353e+00 -1.49263480e+00 -5.61535003e-01]\n",
      " [ 1.25567353e+00 -1.49263480e+00 -4.22405697e-01]\n",
      " [ 1.25567353e+00  1.58548295e+00 -5.61535003e-01]\n",
      " [ 1.34890148e+00  3.54235846e-01  5.51499447e-01]\n",
      " [ 1.34890148e+00  4.64240710e-02 -4.22405697e-01]\n",
      " [ 1.34890148e+00  9.69859396e-01 -5.61535003e-01]\n",
      " [ 1.34890148e+00  9.69859396e-01 -5.61535003e-01]\n",
      " [ 1.34890148e+00 -5.69199479e-01 -5.61535003e-01]\n",
      " [ 1.34890148e+00  6.62047621e-01 -5.61535003e-01]\n",
      " [ 1.44212943e+00  1.27767117e+00 -5.61535003e-01]\n",
      " [ 1.44212943e+00  1.58548295e+00 -5.61535003e-01]\n",
      " [ 1.53535738e+00  1.27767117e+00  5.51499447e-01]\n",
      " [ 1.53535738e+00 -8.77011254e-01 -5.61535003e-01]\n",
      " [ 1.53535738e+00  6.62047621e-01 -5.61535003e-01]\n",
      " [ 1.53535738e+00  9.69859396e-01 -5.61535003e-01]\n",
      " [ 1.62858534e+00 -1.49263480e+00 -5.61535003e-01]\n",
      " [ 1.62858534e+00 -1.49263480e+00 -5.01777826e-03]\n",
      " [ 1.62858534e+00  9.69859396e-01  1.38627528e+00]\n",
      " [ 1.62858534e+00  1.27767117e+00 -5.61535003e-01]\n",
      " [ 1.62858534e+00  1.58548295e+00 -5.61535003e-01]\n",
      " [ 1.62858534e+00 -1.18482303e+00  5.51499447e-01]\n",
      " [ 1.62858534e+00  4.64240710e-02 -5.61535003e-01]\n",
      " [ 1.72181329e+00  1.58548295e+00 -2.83276391e-01]\n",
      " [ 1.81504124e+00  4.64240710e-02 -5.61535003e-01]\n",
      " [ 1.81504124e+00 -1.49263480e+00 -5.61535003e-01]\n",
      " [ 1.81504124e+00  3.54235846e-01 -5.61535003e-01]\n",
      " [ 1.81504124e+00  1.27767117e+00 -1.44147084e-01]\n",
      " [ 1.90826919e+00 -2.61387704e-01 -5.61535003e-01]\n",
      " [ 1.90826919e+00  1.58548295e+00 -5.61535003e-01]\n",
      " [ 2.00149714e+00  6.62047621e-01 -1.44147084e-01]\n",
      " [ 2.00149714e+00  4.64240710e-02 -5.61535003e-01]\n",
      " [ 2.09472510e+00 -2.61387704e-01 -4.22405697e-01]\n",
      " [ 2.18795305e+00  1.27767117e+00 -5.61535003e-01]\n",
      " [ 2.28118100e+00  6.62047621e-01 -1.44147084e-01]\n",
      " [ 2.37440895e+00  6.62047621e-01 -4.22405697e-01]\n",
      " [ 2.84054871e+00 -1.49263480e+00 -2.83276391e-01]]\n"
     ]
    }
   ],
   "source": [
    "#using normlization as we explained in the slides\n",
    "from sklearn.preprocessing import StandardScaler, MinMaxScaler\n",
    "\n",
    "features = ['Age of patient', 'Patients year of operation'\n",
    "            , 'Number of positive axillary']\n",
    "\n",
    "# Separating out the features\n",
    "# :, gives u from the start to all columns\n",
    "x = PCA_df.loc[:, features].values\n",
    "\n",
    "# Separating out the target\n",
    "\n",
    "y = PCA_df.loc[:,['target']].values\n",
    "\n",
    "# Standardizing the features\n",
    "\n",
    "#x = StandardScaler().fit_transform(x)\n",
    "x = StandardScaler().fit_transform(x)\n",
    "#mini max feature\n",
    "#x =  MinMaxScaler().fit_transform(x)\n",
    "\n",
    "print (x)"
   ]
  },
  {
   "cell_type": "code",
   "execution_count": 57,
   "metadata": {},
   "outputs": [
    {
     "name": "stdout",
     "output_type": "stream",
     "text": [
      "     principal component 1  principal component 2\n",
      "0                 1.564649              -0.288826\n",
      "1                 0.858638              -0.089232\n",
      "2                 1.971183              -0.939584\n",
      "3                 1.027176               0.363644\n",
      "4                 2.485094              -0.213370\n",
      "..                     ...                    ...\n",
      "300              -1.498467              -0.476315\n",
      "301              -2.506614               0.309218\n",
      "302              -2.042908               0.290016\n",
      "303              -2.225380               0.064862\n",
      "304              -1.256378              -1.074608\n",
      "\n",
      "[305 rows x 2 columns]\n"
     ]
    }
   ],
   "source": [
    "from sklearn.decomposition import PCA\n",
    "\n",
    "pca = PCA(n_components=2)\n",
    "principalComponents = pca.fit_transform(x)\n",
    "principalDf = pd.DataFrame(data = principalComponents\n",
    "\n",
    "       , columns = ['principal component 1', 'principal component 2'])\n",
    "print(principalDf)"
   ]
  },
  {
   "cell_type": "code",
   "execution_count": 58,
   "metadata": {},
   "outputs": [
    {
     "name": "stdout",
     "output_type": "stream",
     "text": [
      "     principal component 1  principal component 2  target\n",
      "0                 1.564649              -0.288826       1\n",
      "1                 0.858638              -0.089232       1\n",
      "2                 1.971183              -0.939584       1\n",
      "3                 1.027176               0.363644       1\n",
      "4                 2.485094              -0.213370       1\n",
      "..                     ...                    ...     ...\n",
      "300              -1.498467              -0.476315       1\n",
      "301              -2.506614               0.309218       1\n",
      "302              -2.042908               0.290016       1\n",
      "303              -2.225380               0.064862       2\n",
      "304              -1.256378              -1.074608       2\n",
      "\n",
      "[305 rows x 3 columns]\n"
     ]
    }
   ],
   "source": [
    "finalDf=pd.concat([principalDf,PCA_df[['target']]],axis=1)\n",
    "print(finalDf)"
   ]
  },
  {
   "cell_type": "code",
   "execution_count": 59,
   "metadata": {},
   "outputs": [
    {
     "name": "stdout",
     "output_type": "stream",
     "text": [
      "Requirement already satisfied: plotly in c:\\users\\2\\anaconda3\\lib\\site-packages (4.14.3)\n",
      "Requirement already satisfied: retrying>=1.3.3 in c:\\users\\2\\anaconda3\\lib\\site-packages (from plotly) (1.3.3)\n",
      "Requirement already satisfied: six in c:\\users\\2\\anaconda3\\lib\\site-packages (from plotly) (1.15.0)\n",
      "Note: you may need to restart the kernel to use updated packages.\n"
     ]
    }
   ],
   "source": [
    "pip install plotly\n"
   ]
  },
  {
   "cell_type": "code",
   "execution_count": 60,
   "metadata": {},
   "outputs": [
    {
     "data": {
      "application/vnd.plotly.v1+json": {
       "config": {
        "plotlyServerURL": "https://plot.ly"
       },
       "data": [
        {
         "hovertemplate": "0=%{x}<br>1=%{y}<br>color=%{marker.color}<extra></extra>",
         "legendgroup": "",
         "marker": {
          "color": [
           1,
           1,
           1,
           1,
           1,
           1,
           2,
           2,
           1,
           1,
           1,
           1,
           1,
           1,
           1,
           1,
           1,
           1,
           1,
           1,
           1,
           1,
           1,
           2,
           1,
           1,
           1,
           1,
           1,
           1,
           1,
           1,
           1,
           2,
           1,
           1,
           1,
           1,
           1,
           1,
           1,
           1,
           2,
           2,
           2,
           1,
           1,
           1,
           1,
           1,
           1,
           1,
           2,
           2,
           1,
           1,
           1,
           1,
           1,
           1,
           1,
           2,
           2,
           2,
           2,
           1,
           1,
           1,
           1,
           1,
           1,
           1,
           2,
           2,
           2,
           1,
           1,
           1,
           1,
           2,
           2,
           2,
           1,
           1,
           1,
           1,
           1,
           1,
           2,
           2,
           2,
           2,
           1,
           1,
           1,
           2,
           2,
           2,
           1,
           1,
           1,
           1,
           1,
           1,
           1,
           1,
           2,
           2,
           2,
           1,
           1,
           1,
           1,
           2,
           2,
           1,
           1,
           1,
           1,
           1,
           1,
           1,
           1,
           2,
           2,
           1,
           1,
           1,
           1,
           1,
           1,
           1,
           1,
           1,
           1,
           2,
           2,
           1,
           1,
           1,
           1,
           2,
           2,
           2,
           2,
           1,
           1,
           1,
           1,
           1,
           1,
           1,
           1,
           1,
           1,
           2,
           2,
           2,
           2,
           2,
           2,
           1,
           1,
           1,
           1,
           1,
           2,
           2,
           2,
           2,
           1,
           1,
           1,
           1,
           1,
           1,
           1,
           1,
           1,
           2,
           2,
           1,
           1,
           1,
           1,
           1,
           1,
           1,
           1,
           2,
           2,
           1,
           1,
           1,
           1,
           1,
           2,
           2,
           2,
           1,
           1,
           1,
           1,
           1,
           1,
           1,
           1,
           1,
           1,
           1,
           1,
           1,
           1,
           1,
           2,
           1,
           1,
           1,
           1,
           1,
           1,
           1,
           2,
           2,
           1,
           1,
           1,
           1,
           2,
           2,
           2,
           1,
           1,
           1,
           1,
           1,
           1,
           2,
           2,
           2,
           1,
           1,
           1,
           1,
           2,
           1,
           1,
           1,
           1,
           1,
           1,
           1,
           1,
           1,
           1,
           1,
           1,
           2,
           2,
           2,
           2,
           1,
           1,
           1,
           1,
           1,
           1,
           2,
           2,
           1,
           1,
           1,
           2,
           2,
           1,
           1,
           1,
           1,
           1,
           1,
           2,
           1,
           1,
           1,
           2,
           2,
           1,
           1,
           1,
           1,
           1,
           1,
           2,
           1,
           1,
           1,
           1,
           1,
           2,
           1,
           1,
           1,
           1,
           2,
           2
          ],
          "coloraxis": "coloraxis",
          "symbol": "circle"
         },
         "mode": "markers",
         "name": "",
         "orientation": "v",
         "showlegend": false,
         "type": "scatter",
         "x": [
          -22.39138751348065,
          -22.059268707582564,
          -21.407084687673493,
          -21.38304924529405,
          -20.085326760552064,
          -19.223712053869942,
          -18.25807250432867,
          -18.76353296273326,
          -20.689511637097013,
          -18.307416778050158,
          -18.996963221188373,
          -18.572801422923476,
          -18.22739150687307,
          -18.148675495355956,
          -17.139027967509374,
          -16.3147756840564,
          -15.95862143577887,
          -15.23842986588243,
          -15.146386873515617,
          -15.29979186079364,
          -15.749262490400582,
          -16.438808933538798,
          -15.146386873515617,
          -15.646511036504027,
          -14.432840858695334,
          -14.242109318885548,
          -14.242109318885548,
          -14.420823137505613,
          -14.199410600240222,
          -14.058023334151923,
          -14.938301317099926,
          -14.322134590062639,
          -14.427468692581774,
          -13.061702787155042,
          -13.153745779521852,
          -13.031021789699437,
          -13.307150766799877,
          -13.436520311698452,
          -13.47384686423022,
          -12.47088076215718,
          -12.310830219802998,
          -12.09606323761377,
          -13.093728914968008,
          -11.130423688072492,
          -11.03838069570568,
          -11.314509672806116,
          -11.924030844767241,
          -11.283828675350511,
          -11.130423688072492,
          -11.617220870211202,
          -11.099742690616889,
          -11.099742690616889,
          -10.06072342497468,
          -10.287508128353632,
          -10.318189125809235,
          -10.336852402075118,
          -10.447558670707814,
          -10.546247218150787,
          -11.795970559528644,
          -10.103422143620007,
          -10.244809409708306,
          -13.4831826800211,
          -9.451238123710933,
          -9.13778259407873,
          -9.13778259407873,
          -10.288817388013612,
          -9.297833136432914,
          -9.377858407610004,
          -9.260506583901147,
          -9.328514133888516,
          -9.107101596623126,
          -9.396521683875887,
          -8.621613674144399,
          -9.045775472409296,
          -9.692623196902188,
          -8.233505039448664,
          -8.252168315714547,
          -8.233505039448664,
          -9.329823393548498,
          -7.594612129691914,
          -7.083779505173762,
          -7.133123778895249,
          -7.267865489907387,
          -7.0530985077181585,
          -8.418900283842268,
          -7.1451415000849705,
          -7.022417510262555,
          -7.133123778895249,
          -6.492957480175898,
          -6.235491779341343,
          -6.610309303884755,
          -7.718645379174311,
          -6.210182947999299,
          -6.572982751352989,
          -6.179501950543695,
          -7.023762640619913,
          -5.213862401002419,
          -5.121819408635606,
          -5.244543398458022,
          -5.663333030609362,
          -5.091138411180002,
          -5.060457413724397,
          -5.576662204356109,
          -5.595325480621992,
          -5.349877500977159,
          -6.051441665305097,
          -5.220543826775959,
          -5.220543826775959,
          -4.624313764967156,
          -4.888425020877873,
          -4.377592396359721,
          -4.15617985909433,
          -4.094817864183122,
          -3.1905403095530547,
          -3.960112023868364,
          -3.3319275756413544,
          -3.2212213070086593,
          -3.0984973171862427,
          -3.3626085730969586,
          -3.30124657818575,
          -3.4306161230843286,
          -3.251902304464263,
          -3.14784159090773,
          -3.2345482878583605,
          -2.1635387651005704,
          -2.3169437523785916,
          -2.7357333845299303,
          -2.255581757467383,
          -2.274245033733266,
          -2.427650021011287,
          -2.476994294732774,
          -2.255581757467383,
          -2.1635387651005704,
          -2.452958852353331,
          -2.1822020413664536,
          -2.3609517306838974,
          -1.560699018912985,
          -1.727395116343329,
          -1.4006484765588025,
          -1.1365372206480864,
          -1.1858814943695735,
          -0.25756849736006365,
          -0.48435320073901383,
          -0.47233547954929267,
          -0.4296367609039673,
          -0.2629406634736231,
          -0.5216797532707798,
          -0.017492683828789907,
          -0.6137227456375921,
          -0.6937480168146833,
          -0.2322596660180189,
          -0.3122849371951102,
          -0.17089767110681062,
          -0.1402166736512065,
          -0.04817368128439397,
          0.3212358064480796,
          0.7760786021685823,
          0.4319420750807749,
          -0.017528554526168364,
          -1.125864629815724,
          -0.10419938077942137,
          0.5613116199793533,
          0.6226736148905616,
          0.5426483437134704,
          0.6533546123461658,
          0.7947418784344651,
          0.8187414501165293,
          0.011843183269454981,
          1.4522980644570973,
          1.3842905144697273,
          1.1081615373692904,
          1.4589436195332592,
          1.8831054177981579,
          -1.767376058892435,
          1.7603814279757413,
          1.4149715119253317,
          0.27058227306661164,
          1.5576321669762336,
          1.7603814279757413,
          2.3072313453656776,
          1.7404088920498773,
          2.5539527139731133,
          2.6339779851502043,
          2.5539527139731133,
          1.438971083607395,
          2.8794259647950375,
          2.7313931436305765,
          1.210912991265843,
          2.8300816910735502,
          3.124838073742492,
          3.635670698260644,
          3.691660527058293,
          3.7156959694377356,
          3.795721240614826,
          3.9064275092475222,
          3.691660527058293,
          4.318535715625321,
          3.628989272487104,
          4.730679792700498,
          4.0904776232837685,
          4.96411005115561,
          4.718662071510777,
          4.749343068966381,
          4.780024066421985,
          4.81070506387759,
          4.81070506387759,
          4.902748056244402,
          5.653620623596449,
          5.4442258075207794,
          5.634957347330566,
          5.899068603241282,
          5.622939626140845,
          5.382863812609571,
          5.554932076153475,
          3.9410996717619473,
          6.680622168048933,
          6.772665160415744,
          6.723320886694256,
          6.483245073162983,
          6.803346157871348,
          6.24316925963171,
          6.655313336706887,
          6.285832107579657,
          7.830347702323833,
          7.627598441324325,
          7.731659154880858,
          5.706991933074135,
          7.799666704868229,
          8.334498901068445,
          8.826668249320713,
          8.838685970510435,
          8.642582264587087,
          8.642582264587087,
          8.795987251865109,
          8.186466079903983,
          8.918711241687525,
          8.642582264587087,
          8.598574286281783,
          9.608221814128367,
          8.30250864395286,
          9.250794176888235,
          9.853669793773198,
          9.853669793773198,
          9.608221814128367,
          10.585879084859362,
          10.696585353492058,
          10.72726635094766,
          10.757947348403265,
          10.757947348403265,
          10.849990340770077,
          9.976357912898235,
          8.455877760533504,
          11.600862908122124,
          10.055073924415346,
          11.846310887766956,
          11.692905900488936,
          11.907672882678167,
          12.597183455119003,
          12.529175905131636,
          10.959351479045413,
          11.642252367107469,
          12.597183455119003,
          12.781269439852629,
          12.873312432219443,
          12.467813910220428,
          12.781269439852629,
          12.79328716104235,
          13.593504002115882,
          12.64521846918051,
          13.593504002115882,
          13.513478730938791,
          13.900313976671924,
          14.133708364429658,
          14.663204265213697,
          14.8352725287576,
          14.8352725287576,
          14.681867541479578,
          14.804591531301995,
          15.862274073210083,
          15.892955070665689,
          16.21839245079023,
          16.643827638017736,
          16.797232625295752,
          16.82791362275136,
          17.578786190103408,
          17.258685105395042,
          16.703880373268962,
          17.854915167203842,
          17.88559616465945,
          16.969265018142277,
          17.732191177381424,
          18.721866169302146,
          19.724832271375185,
          19.571427284097165,
          19.75551326883079,
          19.60748044766633,
          20.69047182091646,
          20.874557805650085,
          21.538759546748878,
          21.717473365368946,
          22.60308764373313,
          23.83283844918512,
          24.527721187739523,
          25.68409227709059,
          30.37090275870866
         ],
         "xaxis": "x",
         "y": [
          -2.8373465370229436,
          -5.814325050151919,
          -3.7676058110640844,
          -1.7472361450866831,
          4.362107333579981,
          -5.596871700741327,
          -5.52141080728018,
          3.4809593798895397,
          24.377849623115875,
          -4.520155305264338,
          4.45542688898683,
          1.491842372317133,
          -5.516946141793754,
          7.539118953981927,
          -5.423626586386906,
          -4.360304187369194,
          -5.316913034520782,
          -5.2771694649510374,
          -5.263775468491763,
          -5.2860987959238885,
          0.6991108887390335,
          9.6746930829902,
          -5.263775468491763,
          15.775545650492097,
          -3.208126898431057,
          -5.197243906003464,
          -5.197243906003464,
          -2.1979420654423656,
          -4.182594407528346,
          -5.170455913084914,
          5.79424328873866,
          -4.200453069474047,
          -0.18203706495140798,
          -5.09053035413734,
          -5.103924350596616,
          -5.086065688650915,
          -5.126247678028742,
          -3.128201339483485,
          -1.1167610044789522,
          -3.0527404460223377,
          -5.046322119081169,
          -5.015069460676192,
          17.968722011015814,
          -4.9396085672150445,
          -4.92621457075577,
          -4.966396560133596,
          3.012394797588156,
          -4.961931894647171,
          -4.9396085672150445,
          3.057041452452408,
          -4.935143901728621,
          -4.935143901728621,
          -3.840568844305931,
          -4.882006335699598,
          -4.886471001186023,
          -3.8807508336837575,
          -2.888424662640767,
          -0.8859136586090846,
          15.067204391347994,
          -4.855218342781047,
          -3.867356837224482,
          47.026578057291175,
          -2.8084991036931943,
          -4.7797574493198995,
          -4.7797574493198995,
          9.170849596605498,
          -2.7861757762610684,
          -1.7893849397316524,
          -4.7976161112656,
          -2.7906404417474935,
          -4.775292783833475,
          -0.7836647722293859,
          1.280913128804168,
          4.244497645473863,
          14.234729338200147,
          -4.713225886831603,
          -3.7075057193293364,
          -4.713225886831603,
          11.2622154905576,
          1.365303353238166,
          -4.610977000451905,
          -3.609721498436063,
          -4.637764993370456,
          -4.60651233496548,
          9.312842052554938,
          -4.619906331424754,
          -4.602047669479053,
          -3.609721498436063,
          -2.573187092336902,
          -1.5272849354568083,
          0.4350440791970471,
          15.400300623597559,
          -4.548910103450031,
          -1.5763962558074853,
          -4.544445437963607,
          18.461669361160535,
          -4.468984544502459,
          -4.455590548043184,
          -4.4734492099888845,
          1.5162251401604607,
          -4.451125882556759,
          -4.446661217070334,
          -1.4964706968599126,
          -0.4907505293576464,
          -0.455033205466245,
          7.510364155796232,
          6.557781554322988,
          6.557781554322988,
          2.6108001975831505,
          3.5808030411940144,
          -2.3954773124960553,
          -4.380129654582036,
          -4.371200323609186,
          -4.3046687611208885,
          5.667704269659695,
          -3.3168072555643233,
          -4.309133426607314,
          -4.291274764661613,
          -3.321271921050749,
          -3.3123425900778978,
          -1.3142962515326413,
          -4.313598092093739,
          -3.2900192626457727,
          8.733537672709089,
          -4.220278536686891,
          -4.242601864119017,
          1.7470724860303282,
          -4.233672533146167,
          -3.227952365643901,
          -3.250275693076027,
          -2.2490201910601857,
          -4.233672533146167,
          -4.220278536686891,
          -0.22865052508280262,
          -3.214558369184626,
          8.795604569710962,
          -1.172303795583197,
          2.837182877966593,
          -3.165885468642028,
          -4.135888312252894,
          -3.1346328102370524,
          -1.0477315817713724,
          -2.0891690731650394,
          -1.0789842401763488,
          -0.06433474170123211,
          -4.073821415251022,
          -0.07772873816050768,
          -4.038104091359621,
          -0.09112273461978329,
          0.9056681019096328,
          -4.069356749764597,
          -3.072565913235181,
          -4.060427418791747,
          -4.055962753305321,
          -4.0425687568460456,
          -0.02012650664506099,
          -2.9792463578283326,
          -1.0124526776880516,
          4.972757006974869,
          19.938013551375374,
          7.985452843995243,
          -3.0104990162333087,
          -3.001569685260459,
          -2.0047788487310423,
          -2.997105019774033,
          -3.9849665253305986,
          7.046264238981274,
          19.03007760476639,
          1.0878425472369038,
          3.094818216755011,
          3.0546362273771845,
          -0.9280624532540537,
          -3.891646969923751,
          41.96519617591581,
          -3.909505631869451,
          3.0992828822414364,
          15.033984927675878,
          -2.9305734572857363,
          -3.909505631869451,
          2.1556296117410425,
          11.14907046793791,
          -2.850647898338164,
          -3.84743873486758,
          -2.850647898338164,
          14.130513646553307,
          -3.8117214109761774,
          -0.8079549049286546,
          18.131070989130244,
          -2.810465908960336,
          5.234857011249713,
          -0.7414233424403576,
          -3.7585838449471556,
          -1.7382141789697734,
          -2.7350050154991887,
          -3.72733118654218,
          -3.7585838449471556,
          1.3097605621339212,
          10.285342756385088,
          -2.6640087875244673,
          5.31031790471086,
          -3.6384762966217568,
          -3.674193620513159,
          -3.6697289550267334,
          -3.6652642895403087,
          -3.660799624053883,
          -3.660799624053883,
          -3.6474056275946083,
          -3.6031973925384353,
          -0.6083602174637633,
          -2.5974772250361693,
          -3.5674800686470345,
          -3.6076620580248617,
          -0.6172895484366137,
          -1.6006863885067542,
          31.37780144139797,
          -3.518807168104438,
          -3.5054131716451624,
          -2.504157669629321,
          0.48621483995892606,
          -3.500948506158737,
          3.4765873495471737,
          -0.4971820001112142,
          13.502097946356777,
          -3.4165582817247397,
          -2.437626107141025,
          -1.4140472776930577,
          21.48535396956496,
          -3.421022947211165,
          1.6339274634106369,
          -3.336632722777167,
          -2.3264478897884757,
          -3.3634207156957183,
          -3.3634207156957183,
          -3.341097388263593,
          4.6376939694581605,
          -3.3232387263178915,
          -3.3634207156957183,
          9.67478571813426,
          -3.28795982223457,
          15.682318730229307,
          2.7106438588876256,
          -3.252242498343169,
          -3.252242498343169,
          -3.28795982223457,
          -2.202314095784731,
          -3.1946402668277223,
          -3.190175601341297,
          -3.1857109358548716,
          -3.1857109358548716,
          -3.1723169393955963,
          5.7764772619370195,
          24.71550315599592,
          -3.128108704339425,
          18.8325423577127,
          -3.092391380448024,
          -3.1147147078801503,
          -3.083462049475174,
          -3.048183145391852,
          -1.0412074758737455,
          18.899073920200994,
          11.939396726440785,
          -3.048183145391852,
          -3.021395152473302,
          -3.008001156014026,
          -1.0501368068465957,
          -3.021395152473302,
          -2.01121031948461,
          -2.9682575864442806,
          10.003417284897402,
          -2.9682575864442806,
          -1.9714667499148644,
          -2.9236109315800283,
          5.1127826576571715,
          -1.8692178635351655,
          -2.852614703605306,
          -2.852614703605306,
          -2.8749380310374315,
          -2.857079369091731,
          -2.7682244791713084,
          -2.7637598136848833,
          5.286027772011592,
          -2.7195515786287117,
          -2.6972282511965857,
          -2.6927635857101606,
          -2.648555350653989,
          1.3386079954636743,
          11.342233684649234,
          -2.608373361276163,
          -2.6039086957897375,
          5.330236007067764,
          -2.6262320232218634,
          -0.530401463783333,
          -2.4663809053267176,
          -2.488704232758844,
          -2.461916239840293,
          0.5418502662072303,
          -2.3909200118655707,
          -2.364132018947019,
          0.692772053129525,
          -2.3065297874315727,
          -1.23427805744101,
          -2.1288200075907273,
          0.932548729972243,
          -0.9811073841390168,
          0.3840585887232866
         ],
         "yaxis": "y"
        }
       ],
       "layout": {
        "coloraxis": {
         "colorbar": {
          "title": {
           "text": "color"
          }
         },
         "colorscale": [
          [
           0,
           "#0d0887"
          ],
          [
           0.1111111111111111,
           "#46039f"
          ],
          [
           0.2222222222222222,
           "#7201a8"
          ],
          [
           0.3333333333333333,
           "#9c179e"
          ],
          [
           0.4444444444444444,
           "#bd3786"
          ],
          [
           0.5555555555555556,
           "#d8576b"
          ],
          [
           0.6666666666666666,
           "#ed7953"
          ],
          [
           0.7777777777777778,
           "#fb9f3a"
          ],
          [
           0.8888888888888888,
           "#fdca26"
          ],
          [
           1,
           "#f0f921"
          ]
         ]
        },
        "legend": {
         "tracegroupgap": 0
        },
        "margin": {
         "t": 60
        },
        "template": {
         "data": {
          "bar": [
           {
            "error_x": {
             "color": "#2a3f5f"
            },
            "error_y": {
             "color": "#2a3f5f"
            },
            "marker": {
             "line": {
              "color": "#E5ECF6",
              "width": 0.5
             }
            },
            "type": "bar"
           }
          ],
          "barpolar": [
           {
            "marker": {
             "line": {
              "color": "#E5ECF6",
              "width": 0.5
             }
            },
            "type": "barpolar"
           }
          ],
          "carpet": [
           {
            "aaxis": {
             "endlinecolor": "#2a3f5f",
             "gridcolor": "white",
             "linecolor": "white",
             "minorgridcolor": "white",
             "startlinecolor": "#2a3f5f"
            },
            "baxis": {
             "endlinecolor": "#2a3f5f",
             "gridcolor": "white",
             "linecolor": "white",
             "minorgridcolor": "white",
             "startlinecolor": "#2a3f5f"
            },
            "type": "carpet"
           }
          ],
          "choropleth": [
           {
            "colorbar": {
             "outlinewidth": 0,
             "ticks": ""
            },
            "type": "choropleth"
           }
          ],
          "contour": [
           {
            "colorbar": {
             "outlinewidth": 0,
             "ticks": ""
            },
            "colorscale": [
             [
              0,
              "#0d0887"
             ],
             [
              0.1111111111111111,
              "#46039f"
             ],
             [
              0.2222222222222222,
              "#7201a8"
             ],
             [
              0.3333333333333333,
              "#9c179e"
             ],
             [
              0.4444444444444444,
              "#bd3786"
             ],
             [
              0.5555555555555556,
              "#d8576b"
             ],
             [
              0.6666666666666666,
              "#ed7953"
             ],
             [
              0.7777777777777778,
              "#fb9f3a"
             ],
             [
              0.8888888888888888,
              "#fdca26"
             ],
             [
              1,
              "#f0f921"
             ]
            ],
            "type": "contour"
           }
          ],
          "contourcarpet": [
           {
            "colorbar": {
             "outlinewidth": 0,
             "ticks": ""
            },
            "type": "contourcarpet"
           }
          ],
          "heatmap": [
           {
            "colorbar": {
             "outlinewidth": 0,
             "ticks": ""
            },
            "colorscale": [
             [
              0,
              "#0d0887"
             ],
             [
              0.1111111111111111,
              "#46039f"
             ],
             [
              0.2222222222222222,
              "#7201a8"
             ],
             [
              0.3333333333333333,
              "#9c179e"
             ],
             [
              0.4444444444444444,
              "#bd3786"
             ],
             [
              0.5555555555555556,
              "#d8576b"
             ],
             [
              0.6666666666666666,
              "#ed7953"
             ],
             [
              0.7777777777777778,
              "#fb9f3a"
             ],
             [
              0.8888888888888888,
              "#fdca26"
             ],
             [
              1,
              "#f0f921"
             ]
            ],
            "type": "heatmap"
           }
          ],
          "heatmapgl": [
           {
            "colorbar": {
             "outlinewidth": 0,
             "ticks": ""
            },
            "colorscale": [
             [
              0,
              "#0d0887"
             ],
             [
              0.1111111111111111,
              "#46039f"
             ],
             [
              0.2222222222222222,
              "#7201a8"
             ],
             [
              0.3333333333333333,
              "#9c179e"
             ],
             [
              0.4444444444444444,
              "#bd3786"
             ],
             [
              0.5555555555555556,
              "#d8576b"
             ],
             [
              0.6666666666666666,
              "#ed7953"
             ],
             [
              0.7777777777777778,
              "#fb9f3a"
             ],
             [
              0.8888888888888888,
              "#fdca26"
             ],
             [
              1,
              "#f0f921"
             ]
            ],
            "type": "heatmapgl"
           }
          ],
          "histogram": [
           {
            "marker": {
             "colorbar": {
              "outlinewidth": 0,
              "ticks": ""
             }
            },
            "type": "histogram"
           }
          ],
          "histogram2d": [
           {
            "colorbar": {
             "outlinewidth": 0,
             "ticks": ""
            },
            "colorscale": [
             [
              0,
              "#0d0887"
             ],
             [
              0.1111111111111111,
              "#46039f"
             ],
             [
              0.2222222222222222,
              "#7201a8"
             ],
             [
              0.3333333333333333,
              "#9c179e"
             ],
             [
              0.4444444444444444,
              "#bd3786"
             ],
             [
              0.5555555555555556,
              "#d8576b"
             ],
             [
              0.6666666666666666,
              "#ed7953"
             ],
             [
              0.7777777777777778,
              "#fb9f3a"
             ],
             [
              0.8888888888888888,
              "#fdca26"
             ],
             [
              1,
              "#f0f921"
             ]
            ],
            "type": "histogram2d"
           }
          ],
          "histogram2dcontour": [
           {
            "colorbar": {
             "outlinewidth": 0,
             "ticks": ""
            },
            "colorscale": [
             [
              0,
              "#0d0887"
             ],
             [
              0.1111111111111111,
              "#46039f"
             ],
             [
              0.2222222222222222,
              "#7201a8"
             ],
             [
              0.3333333333333333,
              "#9c179e"
             ],
             [
              0.4444444444444444,
              "#bd3786"
             ],
             [
              0.5555555555555556,
              "#d8576b"
             ],
             [
              0.6666666666666666,
              "#ed7953"
             ],
             [
              0.7777777777777778,
              "#fb9f3a"
             ],
             [
              0.8888888888888888,
              "#fdca26"
             ],
             [
              1,
              "#f0f921"
             ]
            ],
            "type": "histogram2dcontour"
           }
          ],
          "mesh3d": [
           {
            "colorbar": {
             "outlinewidth": 0,
             "ticks": ""
            },
            "type": "mesh3d"
           }
          ],
          "parcoords": [
           {
            "line": {
             "colorbar": {
              "outlinewidth": 0,
              "ticks": ""
             }
            },
            "type": "parcoords"
           }
          ],
          "pie": [
           {
            "automargin": true,
            "type": "pie"
           }
          ],
          "scatter": [
           {
            "marker": {
             "colorbar": {
              "outlinewidth": 0,
              "ticks": ""
             }
            },
            "type": "scatter"
           }
          ],
          "scatter3d": [
           {
            "line": {
             "colorbar": {
              "outlinewidth": 0,
              "ticks": ""
             }
            },
            "marker": {
             "colorbar": {
              "outlinewidth": 0,
              "ticks": ""
             }
            },
            "type": "scatter3d"
           }
          ],
          "scattercarpet": [
           {
            "marker": {
             "colorbar": {
              "outlinewidth": 0,
              "ticks": ""
             }
            },
            "type": "scattercarpet"
           }
          ],
          "scattergeo": [
           {
            "marker": {
             "colorbar": {
              "outlinewidth": 0,
              "ticks": ""
             }
            },
            "type": "scattergeo"
           }
          ],
          "scattergl": [
           {
            "marker": {
             "colorbar": {
              "outlinewidth": 0,
              "ticks": ""
             }
            },
            "type": "scattergl"
           }
          ],
          "scattermapbox": [
           {
            "marker": {
             "colorbar": {
              "outlinewidth": 0,
              "ticks": ""
             }
            },
            "type": "scattermapbox"
           }
          ],
          "scatterpolar": [
           {
            "marker": {
             "colorbar": {
              "outlinewidth": 0,
              "ticks": ""
             }
            },
            "type": "scatterpolar"
           }
          ],
          "scatterpolargl": [
           {
            "marker": {
             "colorbar": {
              "outlinewidth": 0,
              "ticks": ""
             }
            },
            "type": "scatterpolargl"
           }
          ],
          "scatterternary": [
           {
            "marker": {
             "colorbar": {
              "outlinewidth": 0,
              "ticks": ""
             }
            },
            "type": "scatterternary"
           }
          ],
          "surface": [
           {
            "colorbar": {
             "outlinewidth": 0,
             "ticks": ""
            },
            "colorscale": [
             [
              0,
              "#0d0887"
             ],
             [
              0.1111111111111111,
              "#46039f"
             ],
             [
              0.2222222222222222,
              "#7201a8"
             ],
             [
              0.3333333333333333,
              "#9c179e"
             ],
             [
              0.4444444444444444,
              "#bd3786"
             ],
             [
              0.5555555555555556,
              "#d8576b"
             ],
             [
              0.6666666666666666,
              "#ed7953"
             ],
             [
              0.7777777777777778,
              "#fb9f3a"
             ],
             [
              0.8888888888888888,
              "#fdca26"
             ],
             [
              1,
              "#f0f921"
             ]
            ],
            "type": "surface"
           }
          ],
          "table": [
           {
            "cells": {
             "fill": {
              "color": "#EBF0F8"
             },
             "line": {
              "color": "white"
             }
            },
            "header": {
             "fill": {
              "color": "#C8D4E3"
             },
             "line": {
              "color": "white"
             }
            },
            "type": "table"
           }
          ]
         },
         "layout": {
          "annotationdefaults": {
           "arrowcolor": "#2a3f5f",
           "arrowhead": 0,
           "arrowwidth": 1
          },
          "autotypenumbers": "strict",
          "coloraxis": {
           "colorbar": {
            "outlinewidth": 0,
            "ticks": ""
           }
          },
          "colorscale": {
           "diverging": [
            [
             0,
             "#8e0152"
            ],
            [
             0.1,
             "#c51b7d"
            ],
            [
             0.2,
             "#de77ae"
            ],
            [
             0.3,
             "#f1b6da"
            ],
            [
             0.4,
             "#fde0ef"
            ],
            [
             0.5,
             "#f7f7f7"
            ],
            [
             0.6,
             "#e6f5d0"
            ],
            [
             0.7,
             "#b8e186"
            ],
            [
             0.8,
             "#7fbc41"
            ],
            [
             0.9,
             "#4d9221"
            ],
            [
             1,
             "#276419"
            ]
           ],
           "sequential": [
            [
             0,
             "#0d0887"
            ],
            [
             0.1111111111111111,
             "#46039f"
            ],
            [
             0.2222222222222222,
             "#7201a8"
            ],
            [
             0.3333333333333333,
             "#9c179e"
            ],
            [
             0.4444444444444444,
             "#bd3786"
            ],
            [
             0.5555555555555556,
             "#d8576b"
            ],
            [
             0.6666666666666666,
             "#ed7953"
            ],
            [
             0.7777777777777778,
             "#fb9f3a"
            ],
            [
             0.8888888888888888,
             "#fdca26"
            ],
            [
             1,
             "#f0f921"
            ]
           ],
           "sequentialminus": [
            [
             0,
             "#0d0887"
            ],
            [
             0.1111111111111111,
             "#46039f"
            ],
            [
             0.2222222222222222,
             "#7201a8"
            ],
            [
             0.3333333333333333,
             "#9c179e"
            ],
            [
             0.4444444444444444,
             "#bd3786"
            ],
            [
             0.5555555555555556,
             "#d8576b"
            ],
            [
             0.6666666666666666,
             "#ed7953"
            ],
            [
             0.7777777777777778,
             "#fb9f3a"
            ],
            [
             0.8888888888888888,
             "#fdca26"
            ],
            [
             1,
             "#f0f921"
            ]
           ]
          },
          "colorway": [
           "#636efa",
           "#EF553B",
           "#00cc96",
           "#ab63fa",
           "#FFA15A",
           "#19d3f3",
           "#FF6692",
           "#B6E880",
           "#FF97FF",
           "#FECB52"
          ],
          "font": {
           "color": "#2a3f5f"
          },
          "geo": {
           "bgcolor": "white",
           "lakecolor": "white",
           "landcolor": "#E5ECF6",
           "showlakes": true,
           "showland": true,
           "subunitcolor": "white"
          },
          "hoverlabel": {
           "align": "left"
          },
          "hovermode": "closest",
          "mapbox": {
           "style": "light"
          },
          "paper_bgcolor": "white",
          "plot_bgcolor": "#E5ECF6",
          "polar": {
           "angularaxis": {
            "gridcolor": "white",
            "linecolor": "white",
            "ticks": ""
           },
           "bgcolor": "#E5ECF6",
           "radialaxis": {
            "gridcolor": "white",
            "linecolor": "white",
            "ticks": ""
           }
          },
          "scene": {
           "xaxis": {
            "backgroundcolor": "#E5ECF6",
            "gridcolor": "white",
            "gridwidth": 2,
            "linecolor": "white",
            "showbackground": true,
            "ticks": "",
            "zerolinecolor": "white"
           },
           "yaxis": {
            "backgroundcolor": "#E5ECF6",
            "gridcolor": "white",
            "gridwidth": 2,
            "linecolor": "white",
            "showbackground": true,
            "ticks": "",
            "zerolinecolor": "white"
           },
           "zaxis": {
            "backgroundcolor": "#E5ECF6",
            "gridcolor": "white",
            "gridwidth": 2,
            "linecolor": "white",
            "showbackground": true,
            "ticks": "",
            "zerolinecolor": "white"
           }
          },
          "shapedefaults": {
           "line": {
            "color": "#2a3f5f"
           }
          },
          "ternary": {
           "aaxis": {
            "gridcolor": "white",
            "linecolor": "white",
            "ticks": ""
           },
           "baxis": {
            "gridcolor": "white",
            "linecolor": "white",
            "ticks": ""
           },
           "bgcolor": "#E5ECF6",
           "caxis": {
            "gridcolor": "white",
            "linecolor": "white",
            "ticks": ""
           }
          },
          "title": {
           "x": 0.05
          },
          "xaxis": {
           "automargin": true,
           "gridcolor": "white",
           "linecolor": "white",
           "ticks": "",
           "title": {
            "standoff": 15
           },
           "zerolinecolor": "white",
           "zerolinewidth": 2
          },
          "yaxis": {
           "automargin": true,
           "gridcolor": "white",
           "linecolor": "white",
           "ticks": "",
           "title": {
            "standoff": 15
           },
           "zerolinecolor": "white",
           "zerolinewidth": 2
          }
         }
        },
        "xaxis": {
         "anchor": "y",
         "domain": [
          0,
          1
         ],
         "title": {
          "text": "0"
         }
        },
        "yaxis": {
         "anchor": "x",
         "domain": [
          0,
          1
         ],
         "title": {
          "text": "1"
         }
        }
       }
      },
      "text/html": [
       "<div>                            <div id=\"1bdd2579-3dc8-438e-8a2c-533e6ab40321\" class=\"plotly-graph-div\" style=\"height:525px; width:100%;\"></div>            <script type=\"text/javascript\">                require([\"plotly\"], function(Plotly) {                    window.PLOTLYENV=window.PLOTLYENV || {};                                    if (document.getElementById(\"1bdd2579-3dc8-438e-8a2c-533e6ab40321\")) {                    Plotly.newPlot(                        \"1bdd2579-3dc8-438e-8a2c-533e6ab40321\",                        [{\"hovertemplate\": \"0=%{x}<br>1=%{y}<br>color=%{marker.color}<extra></extra>\", \"legendgroup\": \"\", \"marker\": {\"color\": [1, 1, 1, 1, 1, 1, 2, 2, 1, 1, 1, 1, 1, 1, 1, 1, 1, 1, 1, 1, 1, 1, 1, 2, 1, 1, 1, 1, 1, 1, 1, 1, 1, 2, 1, 1, 1, 1, 1, 1, 1, 1, 2, 2, 2, 1, 1, 1, 1, 1, 1, 1, 2, 2, 1, 1, 1, 1, 1, 1, 1, 2, 2, 2, 2, 1, 1, 1, 1, 1, 1, 1, 2, 2, 2, 1, 1, 1, 1, 2, 2, 2, 1, 1, 1, 1, 1, 1, 2, 2, 2, 2, 1, 1, 1, 2, 2, 2, 1, 1, 1, 1, 1, 1, 1, 1, 2, 2, 2, 1, 1, 1, 1, 2, 2, 1, 1, 1, 1, 1, 1, 1, 1, 2, 2, 1, 1, 1, 1, 1, 1, 1, 1, 1, 1, 2, 2, 1, 1, 1, 1, 2, 2, 2, 2, 1, 1, 1, 1, 1, 1, 1, 1, 1, 1, 2, 2, 2, 2, 2, 2, 1, 1, 1, 1, 1, 2, 2, 2, 2, 1, 1, 1, 1, 1, 1, 1, 1, 1, 2, 2, 1, 1, 1, 1, 1, 1, 1, 1, 2, 2, 1, 1, 1, 1, 1, 2, 2, 2, 1, 1, 1, 1, 1, 1, 1, 1, 1, 1, 1, 1, 1, 1, 1, 2, 1, 1, 1, 1, 1, 1, 1, 2, 2, 1, 1, 1, 1, 2, 2, 2, 1, 1, 1, 1, 1, 1, 2, 2, 2, 1, 1, 1, 1, 2, 1, 1, 1, 1, 1, 1, 1, 1, 1, 1, 1, 1, 2, 2, 2, 2, 1, 1, 1, 1, 1, 1, 2, 2, 1, 1, 1, 2, 2, 1, 1, 1, 1, 1, 1, 2, 1, 1, 1, 2, 2, 1, 1, 1, 1, 1, 1, 2, 1, 1, 1, 1, 1, 2, 1, 1, 1, 1, 2, 2], \"coloraxis\": \"coloraxis\", \"symbol\": \"circle\"}, \"mode\": \"markers\", \"name\": \"\", \"orientation\": \"v\", \"showlegend\": false, \"type\": \"scatter\", \"x\": [-22.39138751348065, -22.059268707582564, -21.407084687673493, -21.38304924529405, -20.085326760552064, -19.223712053869942, -18.25807250432867, -18.76353296273326, -20.689511637097013, -18.307416778050158, -18.996963221188373, -18.572801422923476, -18.22739150687307, -18.148675495355956, -17.139027967509374, -16.3147756840564, -15.95862143577887, -15.23842986588243, -15.146386873515617, -15.29979186079364, -15.749262490400582, -16.438808933538798, -15.146386873515617, -15.646511036504027, -14.432840858695334, -14.242109318885548, -14.242109318885548, -14.420823137505613, -14.199410600240222, -14.058023334151923, -14.938301317099926, -14.322134590062639, -14.427468692581774, -13.061702787155042, -13.153745779521852, -13.031021789699437, -13.307150766799877, -13.436520311698452, -13.47384686423022, -12.47088076215718, -12.310830219802998, -12.09606323761377, -13.093728914968008, -11.130423688072492, -11.03838069570568, -11.314509672806116, -11.924030844767241, -11.283828675350511, -11.130423688072492, -11.617220870211202, -11.099742690616889, -11.099742690616889, -10.06072342497468, -10.287508128353632, -10.318189125809235, -10.336852402075118, -10.447558670707814, -10.546247218150787, -11.795970559528644, -10.103422143620007, -10.244809409708306, -13.4831826800211, -9.451238123710933, -9.13778259407873, -9.13778259407873, -10.288817388013612, -9.297833136432914, -9.377858407610004, -9.260506583901147, -9.328514133888516, -9.107101596623126, -9.396521683875887, -8.621613674144399, -9.045775472409296, -9.692623196902188, -8.233505039448664, -8.252168315714547, -8.233505039448664, -9.329823393548498, -7.594612129691914, -7.083779505173762, -7.133123778895249, -7.267865489907387, -7.0530985077181585, -8.418900283842268, -7.1451415000849705, -7.022417510262555, -7.133123778895249, -6.492957480175898, -6.235491779341343, -6.610309303884755, -7.718645379174311, -6.210182947999299, -6.572982751352989, -6.179501950543695, -7.023762640619913, -5.213862401002419, -5.121819408635606, -5.244543398458022, -5.663333030609362, -5.091138411180002, -5.060457413724397, -5.576662204356109, -5.595325480621992, -5.349877500977159, -6.051441665305097, -5.220543826775959, -5.220543826775959, -4.624313764967156, -4.888425020877873, -4.377592396359721, -4.15617985909433, -4.094817864183122, -3.1905403095530547, -3.960112023868364, -3.3319275756413544, -3.2212213070086593, -3.0984973171862427, -3.3626085730969586, -3.30124657818575, -3.4306161230843286, -3.251902304464263, -3.14784159090773, -3.2345482878583605, -2.1635387651005704, -2.3169437523785916, -2.7357333845299303, -2.255581757467383, -2.274245033733266, -2.427650021011287, -2.476994294732774, -2.255581757467383, -2.1635387651005704, -2.452958852353331, -2.1822020413664536, -2.3609517306838974, -1.560699018912985, -1.727395116343329, -1.4006484765588025, -1.1365372206480864, -1.1858814943695735, -0.25756849736006365, -0.48435320073901383, -0.47233547954929267, -0.4296367609039673, -0.2629406634736231, -0.5216797532707798, -0.017492683828789907, -0.6137227456375921, -0.6937480168146833, -0.2322596660180189, -0.3122849371951102, -0.17089767110681062, -0.1402166736512065, -0.04817368128439397, 0.3212358064480796, 0.7760786021685823, 0.4319420750807749, -0.017528554526168364, -1.125864629815724, -0.10419938077942137, 0.5613116199793533, 0.6226736148905616, 0.5426483437134704, 0.6533546123461658, 0.7947418784344651, 0.8187414501165293, 0.011843183269454981, 1.4522980644570973, 1.3842905144697273, 1.1081615373692904, 1.4589436195332592, 1.8831054177981579, -1.767376058892435, 1.7603814279757413, 1.4149715119253317, 0.27058227306661164, 1.5576321669762336, 1.7603814279757413, 2.3072313453656776, 1.7404088920498773, 2.5539527139731133, 2.6339779851502043, 2.5539527139731133, 1.438971083607395, 2.8794259647950375, 2.7313931436305765, 1.210912991265843, 2.8300816910735502, 3.124838073742492, 3.635670698260644, 3.691660527058293, 3.7156959694377356, 3.795721240614826, 3.9064275092475222, 3.691660527058293, 4.318535715625321, 3.628989272487104, 4.730679792700498, 4.0904776232837685, 4.96411005115561, 4.718662071510777, 4.749343068966381, 4.780024066421985, 4.81070506387759, 4.81070506387759, 4.902748056244402, 5.653620623596449, 5.4442258075207794, 5.634957347330566, 5.899068603241282, 5.622939626140845, 5.382863812609571, 5.554932076153475, 3.9410996717619473, 6.680622168048933, 6.772665160415744, 6.723320886694256, 6.483245073162983, 6.803346157871348, 6.24316925963171, 6.655313336706887, 6.285832107579657, 7.830347702323833, 7.627598441324325, 7.731659154880858, 5.706991933074135, 7.799666704868229, 8.334498901068445, 8.826668249320713, 8.838685970510435, 8.642582264587087, 8.642582264587087, 8.795987251865109, 8.186466079903983, 8.918711241687525, 8.642582264587087, 8.598574286281783, 9.608221814128367, 8.30250864395286, 9.250794176888235, 9.853669793773198, 9.853669793773198, 9.608221814128367, 10.585879084859362, 10.696585353492058, 10.72726635094766, 10.757947348403265, 10.757947348403265, 10.849990340770077, 9.976357912898235, 8.455877760533504, 11.600862908122124, 10.055073924415346, 11.846310887766956, 11.692905900488936, 11.907672882678167, 12.597183455119003, 12.529175905131636, 10.959351479045413, 11.642252367107469, 12.597183455119003, 12.781269439852629, 12.873312432219443, 12.467813910220428, 12.781269439852629, 12.79328716104235, 13.593504002115882, 12.64521846918051, 13.593504002115882, 13.513478730938791, 13.900313976671924, 14.133708364429658, 14.663204265213697, 14.8352725287576, 14.8352725287576, 14.681867541479578, 14.804591531301995, 15.862274073210083, 15.892955070665689, 16.21839245079023, 16.643827638017736, 16.797232625295752, 16.82791362275136, 17.578786190103408, 17.258685105395042, 16.703880373268962, 17.854915167203842, 17.88559616465945, 16.969265018142277, 17.732191177381424, 18.721866169302146, 19.724832271375185, 19.571427284097165, 19.75551326883079, 19.60748044766633, 20.69047182091646, 20.874557805650085, 21.538759546748878, 21.717473365368946, 22.60308764373313, 23.83283844918512, 24.527721187739523, 25.68409227709059, 30.37090275870866], \"xaxis\": \"x\", \"y\": [-2.8373465370229436, -5.814325050151919, -3.7676058110640844, -1.7472361450866831, 4.362107333579981, -5.596871700741327, -5.52141080728018, 3.4809593798895397, 24.377849623115875, -4.520155305264338, 4.45542688898683, 1.491842372317133, -5.516946141793754, 7.539118953981927, -5.423626586386906, -4.360304187369194, -5.316913034520782, -5.2771694649510374, -5.263775468491763, -5.2860987959238885, 0.6991108887390335, 9.6746930829902, -5.263775468491763, 15.775545650492097, -3.208126898431057, -5.197243906003464, -5.197243906003464, -2.1979420654423656, -4.182594407528346, -5.170455913084914, 5.79424328873866, -4.200453069474047, -0.18203706495140798, -5.09053035413734, -5.103924350596616, -5.086065688650915, -5.126247678028742, -3.128201339483485, -1.1167610044789522, -3.0527404460223377, -5.046322119081169, -5.015069460676192, 17.968722011015814, -4.9396085672150445, -4.92621457075577, -4.966396560133596, 3.012394797588156, -4.961931894647171, -4.9396085672150445, 3.057041452452408, -4.935143901728621, -4.935143901728621, -3.840568844305931, -4.882006335699598, -4.886471001186023, -3.8807508336837575, -2.888424662640767, -0.8859136586090846, 15.067204391347994, -4.855218342781047, -3.867356837224482, 47.026578057291175, -2.8084991036931943, -4.7797574493198995, -4.7797574493198995, 9.170849596605498, -2.7861757762610684, -1.7893849397316524, -4.7976161112656, -2.7906404417474935, -4.775292783833475, -0.7836647722293859, 1.280913128804168, 4.244497645473863, 14.234729338200147, -4.713225886831603, -3.7075057193293364, -4.713225886831603, 11.2622154905576, 1.365303353238166, -4.610977000451905, -3.609721498436063, -4.637764993370456, -4.60651233496548, 9.312842052554938, -4.619906331424754, -4.602047669479053, -3.609721498436063, -2.573187092336902, -1.5272849354568083, 0.4350440791970471, 15.400300623597559, -4.548910103450031, -1.5763962558074853, -4.544445437963607, 18.461669361160535, -4.468984544502459, -4.455590548043184, -4.4734492099888845, 1.5162251401604607, -4.451125882556759, -4.446661217070334, -1.4964706968599126, -0.4907505293576464, -0.455033205466245, 7.510364155796232, 6.557781554322988, 6.557781554322988, 2.6108001975831505, 3.5808030411940144, -2.3954773124960553, -4.380129654582036, -4.371200323609186, -4.3046687611208885, 5.667704269659695, -3.3168072555643233, -4.309133426607314, -4.291274764661613, -3.321271921050749, -3.3123425900778978, -1.3142962515326413, -4.313598092093739, -3.2900192626457727, 8.733537672709089, -4.220278536686891, -4.242601864119017, 1.7470724860303282, -4.233672533146167, -3.227952365643901, -3.250275693076027, -2.2490201910601857, -4.233672533146167, -4.220278536686891, -0.22865052508280262, -3.214558369184626, 8.795604569710962, -1.172303795583197, 2.837182877966593, -3.165885468642028, -4.135888312252894, -3.1346328102370524, -1.0477315817713724, -2.0891690731650394, -1.0789842401763488, -0.06433474170123211, -4.073821415251022, -0.07772873816050768, -4.038104091359621, -0.09112273461978329, 0.9056681019096328, -4.069356749764597, -3.072565913235181, -4.060427418791747, -4.055962753305321, -4.0425687568460456, -0.02012650664506099, -2.9792463578283326, -1.0124526776880516, 4.972757006974869, 19.938013551375374, 7.985452843995243, -3.0104990162333087, -3.001569685260459, -2.0047788487310423, -2.997105019774033, -3.9849665253305986, 7.046264238981274, 19.03007760476639, 1.0878425472369038, 3.094818216755011, 3.0546362273771845, -0.9280624532540537, -3.891646969923751, 41.96519617591581, -3.909505631869451, 3.0992828822414364, 15.033984927675878, -2.9305734572857363, -3.909505631869451, 2.1556296117410425, 11.14907046793791, -2.850647898338164, -3.84743873486758, -2.850647898338164, 14.130513646553307, -3.8117214109761774, -0.8079549049286546, 18.131070989130244, -2.810465908960336, 5.234857011249713, -0.7414233424403576, -3.7585838449471556, -1.7382141789697734, -2.7350050154991887, -3.72733118654218, -3.7585838449471556, 1.3097605621339212, 10.285342756385088, -2.6640087875244673, 5.31031790471086, -3.6384762966217568, -3.674193620513159, -3.6697289550267334, -3.6652642895403087, -3.660799624053883, -3.660799624053883, -3.6474056275946083, -3.6031973925384353, -0.6083602174637633, -2.5974772250361693, -3.5674800686470345, -3.6076620580248617, -0.6172895484366137, -1.6006863885067542, 31.37780144139797, -3.518807168104438, -3.5054131716451624, -2.504157669629321, 0.48621483995892606, -3.500948506158737, 3.4765873495471737, -0.4971820001112142, 13.502097946356777, -3.4165582817247397, -2.437626107141025, -1.4140472776930577, 21.48535396956496, -3.421022947211165, 1.6339274634106369, -3.336632722777167, -2.3264478897884757, -3.3634207156957183, -3.3634207156957183, -3.341097388263593, 4.6376939694581605, -3.3232387263178915, -3.3634207156957183, 9.67478571813426, -3.28795982223457, 15.682318730229307, 2.7106438588876256, -3.252242498343169, -3.252242498343169, -3.28795982223457, -2.202314095784731, -3.1946402668277223, -3.190175601341297, -3.1857109358548716, -3.1857109358548716, -3.1723169393955963, 5.7764772619370195, 24.71550315599592, -3.128108704339425, 18.8325423577127, -3.092391380448024, -3.1147147078801503, -3.083462049475174, -3.048183145391852, -1.0412074758737455, 18.899073920200994, 11.939396726440785, -3.048183145391852, -3.021395152473302, -3.008001156014026, -1.0501368068465957, -3.021395152473302, -2.01121031948461, -2.9682575864442806, 10.003417284897402, -2.9682575864442806, -1.9714667499148644, -2.9236109315800283, 5.1127826576571715, -1.8692178635351655, -2.852614703605306, -2.852614703605306, -2.8749380310374315, -2.857079369091731, -2.7682244791713084, -2.7637598136848833, 5.286027772011592, -2.7195515786287117, -2.6972282511965857, -2.6927635857101606, -2.648555350653989, 1.3386079954636743, 11.342233684649234, -2.608373361276163, -2.6039086957897375, 5.330236007067764, -2.6262320232218634, -0.530401463783333, -2.4663809053267176, -2.488704232758844, -2.461916239840293, 0.5418502662072303, -2.3909200118655707, -2.364132018947019, 0.692772053129525, -2.3065297874315727, -1.23427805744101, -2.1288200075907273, 0.932548729972243, -0.9811073841390168, 0.3840585887232866], \"yaxis\": \"y\"}],                        {\"coloraxis\": {\"colorbar\": {\"title\": {\"text\": \"color\"}}, \"colorscale\": [[0.0, \"#0d0887\"], [0.1111111111111111, \"#46039f\"], [0.2222222222222222, \"#7201a8\"], [0.3333333333333333, \"#9c179e\"], [0.4444444444444444, \"#bd3786\"], [0.5555555555555556, \"#d8576b\"], [0.6666666666666666, \"#ed7953\"], [0.7777777777777778, \"#fb9f3a\"], [0.8888888888888888, \"#fdca26\"], [1.0, \"#f0f921\"]]}, \"legend\": {\"tracegroupgap\": 0}, \"margin\": {\"t\": 60}, \"template\": {\"data\": {\"bar\": [{\"error_x\": {\"color\": \"#2a3f5f\"}, \"error_y\": {\"color\": \"#2a3f5f\"}, \"marker\": {\"line\": {\"color\": \"#E5ECF6\", \"width\": 0.5}}, \"type\": \"bar\"}], \"barpolar\": [{\"marker\": {\"line\": {\"color\": \"#E5ECF6\", \"width\": 0.5}}, \"type\": \"barpolar\"}], \"carpet\": [{\"aaxis\": {\"endlinecolor\": \"#2a3f5f\", \"gridcolor\": \"white\", \"linecolor\": \"white\", \"minorgridcolor\": \"white\", \"startlinecolor\": \"#2a3f5f\"}, \"baxis\": {\"endlinecolor\": \"#2a3f5f\", \"gridcolor\": \"white\", \"linecolor\": \"white\", \"minorgridcolor\": \"white\", \"startlinecolor\": \"#2a3f5f\"}, \"type\": \"carpet\"}], \"choropleth\": [{\"colorbar\": {\"outlinewidth\": 0, \"ticks\": \"\"}, \"type\": \"choropleth\"}], \"contour\": [{\"colorbar\": {\"outlinewidth\": 0, \"ticks\": \"\"}, \"colorscale\": [[0.0, \"#0d0887\"], [0.1111111111111111, \"#46039f\"], [0.2222222222222222, \"#7201a8\"], [0.3333333333333333, \"#9c179e\"], [0.4444444444444444, \"#bd3786\"], [0.5555555555555556, \"#d8576b\"], [0.6666666666666666, \"#ed7953\"], [0.7777777777777778, \"#fb9f3a\"], [0.8888888888888888, \"#fdca26\"], [1.0, \"#f0f921\"]], \"type\": \"contour\"}], \"contourcarpet\": [{\"colorbar\": {\"outlinewidth\": 0, \"ticks\": \"\"}, \"type\": \"contourcarpet\"}], \"heatmap\": [{\"colorbar\": {\"outlinewidth\": 0, \"ticks\": \"\"}, \"colorscale\": [[0.0, \"#0d0887\"], [0.1111111111111111, \"#46039f\"], [0.2222222222222222, \"#7201a8\"], [0.3333333333333333, \"#9c179e\"], [0.4444444444444444, \"#bd3786\"], [0.5555555555555556, \"#d8576b\"], [0.6666666666666666, \"#ed7953\"], [0.7777777777777778, \"#fb9f3a\"], [0.8888888888888888, \"#fdca26\"], [1.0, \"#f0f921\"]], \"type\": \"heatmap\"}], \"heatmapgl\": [{\"colorbar\": {\"outlinewidth\": 0, \"ticks\": \"\"}, \"colorscale\": [[0.0, \"#0d0887\"], [0.1111111111111111, \"#46039f\"], [0.2222222222222222, \"#7201a8\"], [0.3333333333333333, \"#9c179e\"], [0.4444444444444444, \"#bd3786\"], [0.5555555555555556, \"#d8576b\"], [0.6666666666666666, \"#ed7953\"], [0.7777777777777778, \"#fb9f3a\"], [0.8888888888888888, \"#fdca26\"], [1.0, \"#f0f921\"]], \"type\": \"heatmapgl\"}], \"histogram\": [{\"marker\": {\"colorbar\": {\"outlinewidth\": 0, \"ticks\": \"\"}}, \"type\": \"histogram\"}], \"histogram2d\": [{\"colorbar\": {\"outlinewidth\": 0, \"ticks\": \"\"}, \"colorscale\": [[0.0, \"#0d0887\"], [0.1111111111111111, \"#46039f\"], [0.2222222222222222, \"#7201a8\"], [0.3333333333333333, \"#9c179e\"], [0.4444444444444444, \"#bd3786\"], [0.5555555555555556, \"#d8576b\"], [0.6666666666666666, \"#ed7953\"], [0.7777777777777778, \"#fb9f3a\"], [0.8888888888888888, \"#fdca26\"], [1.0, \"#f0f921\"]], \"type\": \"histogram2d\"}], \"histogram2dcontour\": [{\"colorbar\": {\"outlinewidth\": 0, \"ticks\": \"\"}, \"colorscale\": [[0.0, \"#0d0887\"], [0.1111111111111111, \"#46039f\"], [0.2222222222222222, \"#7201a8\"], [0.3333333333333333, \"#9c179e\"], [0.4444444444444444, \"#bd3786\"], [0.5555555555555556, \"#d8576b\"], [0.6666666666666666, \"#ed7953\"], [0.7777777777777778, \"#fb9f3a\"], [0.8888888888888888, \"#fdca26\"], [1.0, \"#f0f921\"]], \"type\": \"histogram2dcontour\"}], \"mesh3d\": [{\"colorbar\": {\"outlinewidth\": 0, \"ticks\": \"\"}, \"type\": \"mesh3d\"}], \"parcoords\": [{\"line\": {\"colorbar\": {\"outlinewidth\": 0, \"ticks\": \"\"}}, \"type\": \"parcoords\"}], \"pie\": [{\"automargin\": true, \"type\": \"pie\"}], \"scatter\": [{\"marker\": {\"colorbar\": {\"outlinewidth\": 0, \"ticks\": \"\"}}, \"type\": \"scatter\"}], \"scatter3d\": [{\"line\": {\"colorbar\": {\"outlinewidth\": 0, \"ticks\": \"\"}}, \"marker\": {\"colorbar\": {\"outlinewidth\": 0, \"ticks\": \"\"}}, \"type\": \"scatter3d\"}], \"scattercarpet\": [{\"marker\": {\"colorbar\": {\"outlinewidth\": 0, \"ticks\": \"\"}}, \"type\": \"scattercarpet\"}], \"scattergeo\": [{\"marker\": {\"colorbar\": {\"outlinewidth\": 0, \"ticks\": \"\"}}, \"type\": \"scattergeo\"}], \"scattergl\": [{\"marker\": {\"colorbar\": {\"outlinewidth\": 0, \"ticks\": \"\"}}, \"type\": \"scattergl\"}], \"scattermapbox\": [{\"marker\": {\"colorbar\": {\"outlinewidth\": 0, \"ticks\": \"\"}}, \"type\": \"scattermapbox\"}], \"scatterpolar\": [{\"marker\": {\"colorbar\": {\"outlinewidth\": 0, \"ticks\": \"\"}}, \"type\": \"scatterpolar\"}], \"scatterpolargl\": [{\"marker\": {\"colorbar\": {\"outlinewidth\": 0, \"ticks\": \"\"}}, \"type\": \"scatterpolargl\"}], \"scatterternary\": [{\"marker\": {\"colorbar\": {\"outlinewidth\": 0, \"ticks\": \"\"}}, \"type\": \"scatterternary\"}], \"surface\": [{\"colorbar\": {\"outlinewidth\": 0, \"ticks\": \"\"}, \"colorscale\": [[0.0, \"#0d0887\"], [0.1111111111111111, \"#46039f\"], [0.2222222222222222, \"#7201a8\"], [0.3333333333333333, \"#9c179e\"], [0.4444444444444444, \"#bd3786\"], [0.5555555555555556, \"#d8576b\"], [0.6666666666666666, \"#ed7953\"], [0.7777777777777778, \"#fb9f3a\"], [0.8888888888888888, \"#fdca26\"], [1.0, \"#f0f921\"]], \"type\": \"surface\"}], \"table\": [{\"cells\": {\"fill\": {\"color\": \"#EBF0F8\"}, \"line\": {\"color\": \"white\"}}, \"header\": {\"fill\": {\"color\": \"#C8D4E3\"}, \"line\": {\"color\": \"white\"}}, \"type\": \"table\"}]}, \"layout\": {\"annotationdefaults\": {\"arrowcolor\": \"#2a3f5f\", \"arrowhead\": 0, \"arrowwidth\": 1}, \"autotypenumbers\": \"strict\", \"coloraxis\": {\"colorbar\": {\"outlinewidth\": 0, \"ticks\": \"\"}}, \"colorscale\": {\"diverging\": [[0, \"#8e0152\"], [0.1, \"#c51b7d\"], [0.2, \"#de77ae\"], [0.3, \"#f1b6da\"], [0.4, \"#fde0ef\"], [0.5, \"#f7f7f7\"], [0.6, \"#e6f5d0\"], [0.7, \"#b8e186\"], [0.8, \"#7fbc41\"], [0.9, \"#4d9221\"], [1, \"#276419\"]], \"sequential\": [[0.0, \"#0d0887\"], [0.1111111111111111, \"#46039f\"], [0.2222222222222222, \"#7201a8\"], [0.3333333333333333, \"#9c179e\"], [0.4444444444444444, \"#bd3786\"], [0.5555555555555556, \"#d8576b\"], [0.6666666666666666, \"#ed7953\"], [0.7777777777777778, \"#fb9f3a\"], [0.8888888888888888, \"#fdca26\"], [1.0, \"#f0f921\"]], \"sequentialminus\": [[0.0, \"#0d0887\"], [0.1111111111111111, \"#46039f\"], [0.2222222222222222, \"#7201a8\"], [0.3333333333333333, \"#9c179e\"], [0.4444444444444444, \"#bd3786\"], [0.5555555555555556, \"#d8576b\"], [0.6666666666666666, \"#ed7953\"], [0.7777777777777778, \"#fb9f3a\"], [0.8888888888888888, \"#fdca26\"], [1.0, \"#f0f921\"]]}, \"colorway\": [\"#636efa\", \"#EF553B\", \"#00cc96\", \"#ab63fa\", \"#FFA15A\", \"#19d3f3\", \"#FF6692\", \"#B6E880\", \"#FF97FF\", \"#FECB52\"], \"font\": {\"color\": \"#2a3f5f\"}, \"geo\": {\"bgcolor\": \"white\", \"lakecolor\": \"white\", \"landcolor\": \"#E5ECF6\", \"showlakes\": true, \"showland\": true, \"subunitcolor\": \"white\"}, \"hoverlabel\": {\"align\": \"left\"}, \"hovermode\": \"closest\", \"mapbox\": {\"style\": \"light\"}, \"paper_bgcolor\": \"white\", \"plot_bgcolor\": \"#E5ECF6\", \"polar\": {\"angularaxis\": {\"gridcolor\": \"white\", \"linecolor\": \"white\", \"ticks\": \"\"}, \"bgcolor\": \"#E5ECF6\", \"radialaxis\": {\"gridcolor\": \"white\", \"linecolor\": \"white\", \"ticks\": \"\"}}, \"scene\": {\"xaxis\": {\"backgroundcolor\": \"#E5ECF6\", \"gridcolor\": \"white\", \"gridwidth\": 2, \"linecolor\": \"white\", \"showbackground\": true, \"ticks\": \"\", \"zerolinecolor\": \"white\"}, \"yaxis\": {\"backgroundcolor\": \"#E5ECF6\", \"gridcolor\": \"white\", \"gridwidth\": 2, \"linecolor\": \"white\", \"showbackground\": true, \"ticks\": \"\", \"zerolinecolor\": \"white\"}, \"zaxis\": {\"backgroundcolor\": \"#E5ECF6\", \"gridcolor\": \"white\", \"gridwidth\": 2, \"linecolor\": \"white\", \"showbackground\": true, \"ticks\": \"\", \"zerolinecolor\": \"white\"}}, \"shapedefaults\": {\"line\": {\"color\": \"#2a3f5f\"}}, \"ternary\": {\"aaxis\": {\"gridcolor\": \"white\", \"linecolor\": \"white\", \"ticks\": \"\"}, \"baxis\": {\"gridcolor\": \"white\", \"linecolor\": \"white\", \"ticks\": \"\"}, \"bgcolor\": \"#E5ECF6\", \"caxis\": {\"gridcolor\": \"white\", \"linecolor\": \"white\", \"ticks\": \"\"}}, \"title\": {\"x\": 0.05}, \"xaxis\": {\"automargin\": true, \"gridcolor\": \"white\", \"linecolor\": \"white\", \"ticks\": \"\", \"title\": {\"standoff\": 15}, \"zerolinecolor\": \"white\", \"zerolinewidth\": 2}, \"yaxis\": {\"automargin\": true, \"gridcolor\": \"white\", \"linecolor\": \"white\", \"ticks\": \"\", \"title\": {\"standoff\": 15}, \"zerolinecolor\": \"white\", \"zerolinewidth\": 2}}}, \"xaxis\": {\"anchor\": \"y\", \"domain\": [0.0, 1.0], \"title\": {\"text\": \"0\"}}, \"yaxis\": {\"anchor\": \"x\", \"domain\": [0.0, 1.0], \"title\": {\"text\": \"1\"}}},                        {\"responsive\": true}                    ).then(function(){\n",
       "                            \n",
       "var gd = document.getElementById('1bdd2579-3dc8-438e-8a2c-533e6ab40321');\n",
       "var x = new MutationObserver(function (mutations, observer) {{\n",
       "        var display = window.getComputedStyle(gd).display;\n",
       "        if (!display || display === 'none') {{\n",
       "            console.log([gd, 'removed!']);\n",
       "            Plotly.purge(gd);\n",
       "            observer.disconnect();\n",
       "        }}\n",
       "}});\n",
       "\n",
       "// Listen for the removal of the full notebook cells\n",
       "var notebookContainer = gd.closest('#notebook-container');\n",
       "if (notebookContainer) {{\n",
       "    x.observe(notebookContainer, {childList: true});\n",
       "}}\n",
       "\n",
       "// Listen for the clearing of the current output cell\n",
       "var outputEl = gd.closest('.output');\n",
       "if (outputEl) {{\n",
       "    x.observe(outputEl, {childList: true});\n",
       "}}\n",
       "\n",
       "                        })                };                });            </script>        </div>"
      ]
     },
     "metadata": {},
     "output_type": "display_data"
    }
   ],
   "source": [
    "import matplotlib.pyplot as plt\n",
    "import plotly.express as px\n",
    "%matplotlib inline\n",
    "\n",
    "#sns.set(color_codes=True)\n",
    "\n",
    "\n",
    "\n",
    "X = dataset[['Age of patient', 'Patients year of operation'\n",
    "             , 'Number of positive axillary']]\n",
    "pca = PCA(n_components=2)\n",
    "components = pca.fit_transform(X)\n",
    "fig = px.scatter(components, x=0, y=1, color=finalDf['target'])\n",
    "fig.show()"
   ]
  },
  {
   "cell_type": "code",
   "execution_count": 61,
   "metadata": {},
   "outputs": [
    {
     "name": "stdout",
     "output_type": "stream",
     "text": [
      "[0.65192362 0.28910141]\n"
     ]
    }
   ],
   "source": [
    "print(pca.explained_variance_ratio_)"
   ]
  },
  {
   "cell_type": "code",
   "execution_count": 62,
   "metadata": {},
   "outputs": [],
   "source": [
    "import pandas as pd\n",
    "import matplotlib.pyplot as plt\n",
    "import seaborn as sns #visualisation\n",
    "import numpy as np\n",
    "from sklearn.cluster import KMeans"
   ]
  },
  {
   "cell_type": "code",
   "execution_count": 64,
   "metadata": {},
   "outputs": [],
   "source": [
    "# select all columns\n",
    "x= dataset.iloc[:,[0,1,2,3]].values"
   ]
  },
  {
   "cell_type": "code",
   "execution_count": 65,
   "metadata": {},
   "outputs": [
    {
     "name": "stdout",
     "output_type": "stream",
     "text": [
      "[2 2 2 2 2 2 2 2 3 2 2 2 2 2 2 2 2 2 2 2 2 2 2 3 2 2 2 2 2 2 2 2 2 2 2 2 2\n",
      " 2 2 2 2 2 3 2 2 2 2 2 2 2 2 2 2 2 2 2 2 2 3 2 2 3 2 2 2 3 2 2 2 2 2 2 2 2\n",
      " 3 2 2 2 3 4 4 4 4 4 3 4 4 4 4 4 4 3 4 4 4 3 4 4 4 4 4 4 4 4 4 4 4 4 4 4 4\n",
      " 4 4 4 4 4 4 4 4 4 4 4 4 3 4 4 4 4 4 4 4 4 4 4 4 3 4 4 4 4 4 4 4 4 4 4 4 4\n",
      " 4 4 4 4 4 4 4 4 4 4 4 3 4 4 4 4 4 4 4 3 4 4 4 4 4 3 4 4 3 4 4 1 3 1 1 1 3\n",
      " 1 1 3 1 1 1 1 1 1 1 1 1 3 1 1 1 1 1 1 1 1 1 1 1 1 1 1 1 1 3 1 1 1 1 1 1 1\n",
      " 3 1 1 1 3 1 1 1 1 1 1 1 1 1 1 1 1 3 1 1 1 1 1 1 1 1 1 1 1 3 1 3 0 1 0 0 0\n",
      " 3 0 0 0 0 0 0 0 0 0 0 0 0 0 0 0 0 0 0 0 0 0 0 0 0 0 0 0 0 0 0 0 0 0 0 0 0\n",
      " 0 0 0 0 0 0 0 0 0]\n"
     ]
    },
    {
     "data": {
      "text/plain": [
       "array([[69.16326531, 63.53061224,  1.87755102,  1.28571429],\n",
       "       [59.03030303, 62.84848485,  1.6969697 ,  1.18181818],\n",
       "       [38.92957746, 62.28169014,  2.33802817,  1.16901408],\n",
       "       [51.35714286, 63.10714286, 22.39285714,  1.57142857],\n",
       "       [49.83516484, 62.84615385,  2.57142857,  1.2967033 ]])"
      ]
     },
     "execution_count": 65,
     "metadata": {},
     "output_type": "execute_result"
    }
   ],
   "source": [
    "## \n",
    "kmeans5=KMeans(n_clusters=5)\n",
    "y_kmeans5=kmeans5.fit_predict(x)\n",
    "print(y_kmeans5)\n",
    "kmeans5.cluster_centers_"
   ]
  },
  {
   "cell_type": "code",
   "execution_count": 66,
   "metadata": {},
   "outputs": [
    {
     "data": {
      "text/plain": [
       "<function matplotlib.pyplot.show(close=None, block=None)>"
      ]
     },
     "execution_count": 66,
     "metadata": {},
     "output_type": "execute_result"
    },
    {
     "data": {
      "image/png": "[encoded data removed]",
      "text/plain": [
       "<Figure size 432x288 with 1 Axes>"
      ]
     },
     "metadata": {
      "needs_background": "light"
     },
     "output_type": "display_data"
    }
   ],
   "source": [
    "# elbow algorithm to select optimal\n",
    "Error=[]\n",
    "for i in range(1,11):\n",
    "    kmeans= KMeans(n_clusters=i).fit(x)\n",
    "    kmeans.fit(x)\n",
    "    Error.append(kmeans.inertia_)\n",
    "plt.plot(range(1,11),Error)\n",
    "plt.title('Elbow method')\n",
    "plt.xlabel('No of clusters')\n",
    "plt.ylabel('Error')\n",
    "plt.show"
   ]
  },
  {
   "cell_type": "code",
   "execution_count": 67,
   "metadata": {},
   "outputs": [],
   "source": [
    "## optimal at 3 as we see before now we cluster at 3\n",
    "kmeans3=KMeans(n_clusters=3)\n",
    "y_kmeans3=kmeans3.fit_predict(x)\n"
   ]
  },
  {
   "cell_type": "code",
   "execution_count": 68,
   "metadata": {},
   "outputs": [
    {
     "data": {
      "text/plain": [
       "<matplotlib.collections.PathCollection at 0x21b6a006a00>"
      ]
     },
     "execution_count": 68,
     "metadata": {},
     "output_type": "execute_result"
    },
    {
     "data": {
      "image/png": "[encoded data removed]",
      "text/plain": [
       "<Figure size 432x288 with 1 Axes>"
      ]
     },
     "metadata": {
      "needs_background": "light"
     },
     "output_type": "display_data"
    }
   ],
   "source": [
    "# to show \n",
    "plt.scatter(x[:,0], x[:,1], c=y_kmeans3, cmap='rainbow')"
   ]
  },
  {
   "cell_type": "code",
   "execution_count": null,
   "metadata": {},
   "outputs": [],
   "source": []
  },
  {
   "cell_type": "code",
   "execution_count": null,
   "metadata": {},
   "outputs": [],
   "source": []
  }
 ],
 "metadata": {
  "kernelspec": {
   "display_name": "Python 3",
   "language": "python",
   "name": "python3"
  },
  "language_info": {
   "codemirror_mode": {
    "name": "ipython",
    "version": 3
   },
   "file_extension": ".py",
   "mimetype": "text/x-python",
   "name": "python",
   "nbconvert_exporter": "python",
   "pygments_lexer": "ipython3",
   "version": "3.8.5"
  }
 },
 "nbformat": 4,
 "nbformat_minor": 4
}
