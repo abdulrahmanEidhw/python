{
 "cells": [
  {
   "cell_type": "code",
   "execution_count": 5,
   "metadata": {},
   "outputs": [
    {
     "name": "stdout",
     "output_type": "stream",
     "text": [
      "3.8.5\n"
     ]
    }
   ],
   "source": [
    "from platform import python_version\n",
    "print (python_version())"
   ]
  },
  {
   "cell_type": "markdown",
   "metadata": {},
   "source": [
    "# 2.1 Running Python "
   ]
  },
  {
   "cell_type": "code",
   "execution_count": null,
   "metadata": {},
   "outputs": [],
   "source": []
  },
  {
   "cell_type": "code",
   "execution_count": 19,
   "metadata": {},
   "outputs": [],
   "source": [
    "# filename.py\n",
    "''' This is the file header.\n",
    "The header contains basic information about file.\n",
    "'''\n",
    "if __name__ == \"__main__\":\n",
    "    pass #'pass' is a temporary placeholder.this is like main in java,4 spaces needed\n"
   ]
  },
  {
   "cell_type": "markdown",
   "metadata": {},
   "source": [
    "# exercise 1:\n",
    "\n",
    "add your info to header at the top\n"
   ]
  },
  {
   "cell_type": "code",
   "execution_count": null,
   "metadata": {},
   "outputs": [],
   "source": [
    "\n",
    "if __name__ == \"__main__\":\n",
    "    print(\"Hello,world\") #indent with four spaces (not tab"
   ]
  },
  {
   "cell_type": "code",
   "execution_count": 15,
   "metadata": {},
   "outputs": [
    {
     "name": "stdout",
     "output_type": "stream",
     "text": [
      "Help on built-in function print in module builtins:\n",
      "\n",
      "print(...)\n",
      "    print(value, ..., sep=' ', end='\\n', file=sys.stdout, flush=False)\n",
      "    \n",
      "    Prints the values to a stream, or to sys.stdout by default.\n",
      "    Optional keyword arguments:\n",
      "    file:  a file-like object (stream); defaults to the current sys.stdout.\n",
      "    sep:   string inserted between values, default a space.\n",
      "    end:   string appended after the last value, default a newline.\n",
      "    flush: whether to forcibly flush the stream.\n",
      "\n"
     ]
    }
   ],
   "source": [
    "help(print) "
   ]
  },
  {
   "cell_type": "markdown",
   "metadata": {},
   "source": [
    "# 1.3 python basic\n",
    "## exercise 2\n",
    "demonstrate how can python do that."
   ]
  },
  {
   "cell_type": "code",
   "execution_count": 18,
   "metadata": {},
   "outputs": [
    {
     "name": "stdout",
     "output_type": "stream",
     "text": [
      "25\n",
      "2.5\n",
      "1\n"
     ]
    },
    {
     "data": {
      "text/plain": [
       "False"
      ]
     },
     "execution_count": 18,
     "metadata": {},
     "output_type": "execute_result"
    }
   ],
   "source": [
    "x,y =1,4\n",
    "z=x+y\n",
    "print(z**2)\n",
    "print(z/2)\n",
    "print(z%2)\n",
    "x==y"
   ]
  },
  {
   "cell_type": "markdown",
   "metadata": {},
   "source": [
    "## function\n"
   ]
  },
  {
   "cell_type": "markdown",
   "metadata": {},
   "source": [
    "## exercise 4"
   ]
  },
  {
   "cell_type": "code",
   "execution_count": 2,
   "metadata": {},
   "outputs": [
    {
     "data": {
      "text/plain": [
       "8"
      ]
     },
     "execution_count": 2,
     "metadata": {},
     "output_type": "execute_result"
    }
   ],
   "source": [
    "def add (x , y):\n",
    "    \n",
    "    return x + y\n",
    "    \n",
    "add(5,3)"
   ]
  },
  {
   "cell_type": "code",
   "execution_count": 21,
   "metadata": {},
   "outputs": [
    {
     "name": "stdout",
     "output_type": "stream",
     "text": [
      "7\n"
     ]
    }
   ],
   "source": [
    "def mathematical_opritions (x , y):\n",
    "    temp= x + y\n",
    "    return temp\n",
    "    \n",
    "z = mathematical_opritions(3,4)\n",
    "print(z)"
   ]
  },
  {
   "cell_type": "markdown",
   "metadata": {},
   "source": [
    "## excersise 5"
   ]
  },
  {
   "cell_type": "markdown",
   "metadata": {},
   "source": [
    "The volume of a sphere with radius 𝑟 is 𝑉 =\n",
    "\n",
    "$$V = 4/3 \\pi r^3$$\n",
    "3 define a\n",
    "function called sphere_volume() that accepts a single parameter r.\n",
    "Return the volume of the sphere of radius r, using 3.14159 as an\n",
    "approximation for 𝜋 (for now). To test your function, call it under the if\n",
    "__name__ == \"__main__\" clause and print the returned value. Run your file\n",
    "to see if your answer is what you expect it to be."
   ]
  },
  {
   "cell_type": "code",
   "execution_count": 33,
   "metadata": {},
   "outputs": [
    {
     "name": "stdout",
     "output_type": "stream",
     "text": [
      "523.5983333333332\n"
     ]
    }
   ],
   "source": [
    "def sphare_volume(r):\n",
    "    Pi=3.14159 \n",
    "    v= 4/3 *Pi* r **3\n",
    "    return v\n",
    "\n",
    "if __name__ == \"__main__\":\n",
    "    volume = sphare_volume(5)\n",
    "    print (volume)"
   ]
  },
  {
   "cell_type": "code",
   "execution_count": 43,
   "metadata": {},
   "outputs": [
    {
     "name": "stdout",
     "output_type": "stream",
     "text": [
      "is-372is in 8 which is delivered byA/prof. mohammed al-sarem\n"
     ]
    }
   ],
   "source": [
    "def information (course,professor,level=' 8 '):\n",
    "    print(course + 'is in' + level + 'which is delivered by' + professor)\n",
    "    \n",
    "    \n",
    "if __name__ == \"__main__\":\n",
    "    course = \"is-372\"\n",
    "    professor= \"A/prof. mohammed al-sarem\"\n",
    "    information(course,professor)"
   ]
  },
  {
   "cell_type": "code",
   "execution_count": 10,
   "metadata": {},
   "outputs": [
    {
     "data": {
      "text/plain": [
       "int"
      ]
     },
     "execution_count": 10,
     "metadata": {},
     "output_type": "execute_result"
    }
   ],
   "source": [
    "Prof =\"Al-Sarem\"\n",
    "level =8\n",
    "type(Prof)\n",
    "type(level)"
   ]
  },
  {
   "cell_type": "markdown",
   "metadata": {},
   "source": [
    "## data type and structures"
   ]
  },
  {
   "cell_type": "code",
   "execution_count": 13,
   "metadata": {},
   "outputs": [
    {
     "name": "stdout",
     "output_type": "stream",
     "text": [
      "IS-372\n",
      "e\n",
      "IS-37\n",
      " Data Mining & Data Warehouse\n"
     ]
    }
   ],
   "source": [
    "course_name = \"IS-372 Data Mining & Data Warehouse\"\n",
    "print(course_name [0:6])\n",
    "print(course_name[-1])\n",
    "print(course_name[:5])\n",
    "print(course_name[6:])\n"
   ]
  },
  {
   "cell_type": "markdown",
   "metadata": {},
   "source": [
    "## 1.4 lists"
   ]
  },
  {
   "cell_type": "code",
   "execution_count": 136,
   "metadata": {},
   "outputs": [
    {
     "data": {
      "text/plain": [
       "['Hello', 93.8]"
      ]
     },
     "execution_count": 136,
     "metadata": {},
     "output_type": "execute_result"
    }
   ],
   "source": [
    "my_list = [\"Hello\", 93.8, \"world\", 10]\n",
    "\n",
    "#my_list[0]\n",
    "#my_list[-2]\n",
    "#my_list[:2]"
   ]
  },
  {
   "cell_type": "code",
   "execution_count": 147,
   "metadata": {},
   "outputs": [
    {
     "data": {
      "text/plain": [
       "[1, 2, 4]"
      ]
     },
     "execution_count": 147,
     "metadata": {},
     "output_type": "execute_result"
    }
   ],
   "source": [
    "my_list = [1, 2]\n",
    "\n",
    "my_list.append(4)\n",
    "my_list.insert(2, 3)\n",
    "my_list.remove(3)\n",
    "my_list.pop()\n",
    "\n",
    "my_list"
   ]
  },
  {
   "cell_type": "markdown",
   "metadata": {},
   "source": [
    "## 1.5tuples"
   ]
  },
  {
   "cell_type": "code",
   "execution_count": 42,
   "metadata": {},
   "outputs": [
    {
     "name": "stdout",
     "output_type": "stream",
     "text": [
      "3 10\n",
      "(3, 10)\n"
     ]
    }
   ],
   "source": [
    "def arithmetic(a, b) :\n",
    "    \"\"\"return two product\"\"\"\n",
    "    return a-b, a * b\n",
    "x, y = arithmetic(5,2)\n",
    "print(x, y)\n",
    "both = arithmetic(5,2)\n",
    "print(both)"
   ]
  },
  {
   "cell_type": "markdown",
   "metadata": {},
   "source": [
    "## ex 7"
   ]
  },
  {
   "cell_type": "markdown",
   "metadata": {},
   "source": [
    "Write a function called list_ops(). Define a list with the entries\n",
    "\"bear\", \"ant\", \"cat\", and \"dog\", in that order. Then perform the following\n",
    "operations on the list:"
   ]
  },
  {
   "cell_type": "code",
   "execution_count": 104,
   "metadata": {},
   "outputs": [
    {
     "name": "stdout",
     "output_type": "stream",
     "text": [
      "['hawk', 'dog', 'cat', 'fox', 'bear', 'hunter']\n"
     ]
    }
   ],
   "source": [
    "def list_ops():\n",
    "    lis = [\"bear\", \"ant\", \"cat\", \"dog\"]\n",
    "    \n",
    "    lis.append(\"eagle\")\n",
    "    lis.insert(2, \"fox\")\n",
    "    lis.pop(1)\n",
    "    lis.reverse()\n",
    "    lis[lis.index(\"eagle\")] =\"hawk\"\n",
    "    lis.append(\"hunter\")\n",
    "   \n",
    "    return lis\n",
    "\n",
    "print(list_ops())\n"
   ]
  },
  {
   "cell_type": "markdown",
   "metadata": {},
   "source": [
    "## 1.6 sets"
   ]
  },
  {
   "cell_type": "code",
   "execution_count": 112,
   "metadata": {},
   "outputs": [
    {
     "name": "stdout",
     "output_type": "stream",
     "text": [
      "{'a', 'b', 'c'}\n",
      "{'a', 'd', 'b', 'c'}\n"
     ]
    },
    {
     "data": {
      "text/plain": [
       "{'c', 'd'}"
      ]
     },
     "execution_count": 112,
     "metadata": {},
     "output_type": "execute_result"
    }
   ],
   "source": [
    "my_set = {\"a\",\"b\",\"c\"}\n",
    "print(my_set)\n",
    "my_set.add(\"d\")\n",
    "print(my_set)\n",
    "\n",
    "database_set=(\"a\",\"b\",\"C\",\"D\")\n",
    "\n",
    "my_set.intersection(database_set)\n",
    "my_set.difference(database_set)\n",
    "\n"
   ]
  },
  {
   "cell_type": "markdown",
   "metadata": {},
   "source": [
    "## 1.7 dictionaries"
   ]
  },
  {
   "cell_type": "code",
   "execution_count": 117,
   "metadata": {},
   "outputs": [
    {
     "name": "stdout",
     "output_type": "stream",
     "text": [
      "10\n"
     ]
    },
    {
     "data": {
      "text/plain": [
       "dict_values([10, 5])"
      ]
     },
     "execution_count": 117,
     "metadata": {},
     "output_type": "execute_result"
    }
   ],
   "source": [
    "dic = {\"key1\": 10, \"key\":5}\n",
    "dic[\"key1\"]\n",
    "print(dic[\"key1\"])\n",
    "\n",
    "#Display the keys and values.\n",
    "dic.keys()\n",
    "\n",
    "dic.values()\n",
    "\n",
    "\n"
   ]
  },
  {
   "cell_type": "markdown",
   "metadata": {},
   "source": [
    "## control flow tools"
   ]
  },
  {
   "cell_type": "code",
   "execution_count": 129,
   "metadata": {},
   "outputs": [
    {
     "name": "stdout",
     "output_type": "stream",
     "text": [
      "i bigger than 0\n"
     ]
    }
   ],
   "source": [
    "i = 5\n",
    "if (i>0):\n",
    "    print( \"i bigger than 0\" )\n",
    "    \n",
    "        "
   ]
  },
  {
   "cell_type": "markdown",
   "metadata": {},
   "source": [
    "## the while loop"
   ]
  },
  {
   "cell_type": "code",
   "execution_count": null,
   "metadata": {},
   "outputs": [],
   "source": [
    "i =  0 \n",
    "while i < 100:\n",
    "    print(i, end=' ')\n",
    "    i +=1"
   ]
  },
  {
   "cell_type": "markdown",
   "metadata": {},
   "source": [
    "## the for loop"
   ]
  },
  {
   "cell_type": "code",
   "execution_count": 130,
   "metadata": {},
   "outputs": [
    {
     "name": "stdout",
     "output_type": "stream",
     "text": [
      "red!\n",
      "green!\n",
      "blue!\n",
      "yellow!\n"
     ]
    }
   ],
   "source": [
    "colors = [\"red\", \"green\", \"blue\", \"yellow\"]\n",
    "for entry in colors:\n",
    "    print(entry + \"!\")"
   ]
  },
  {
   "cell_type": "markdown",
   "metadata": {},
   "source": [
    "## exercise 8"
   ]
  },
  {
   "cell_type": "code",
   "execution_count": 131,
   "metadata": {},
   "outputs": [
    {
     "name": "stdout",
     "output_type": "stream",
     "text": [
      "\n",
      "s\n",
      "st\n",
      "sta\n"
     ]
    }
   ],
   "source": [
    "s =\"stab\"\n",
    "for i in range(len(s)):\n",
    "    print(s[0 : i : 1])"
   ]
  },
  {
   "cell_type": "code",
   "execution_count": null,
   "metadata": {},
   "outputs": [],
   "source": []
  }
 ],
 "metadata": {
  "kernelspec": {
   "display_name": "Python 3",
   "language": "python",
   "name": "python3"
  },
  "language_info": {
   "codemirror_mode": {
    "name": "ipython",
    "version": 3
   },
   "file_extension": ".py",
   "mimetype": "text/x-python",
   "name": "python",
   "nbconvert_exporter": "python",
   "pygments_lexer": "ipython3",
   "version": "3.8.5"
  }
 },
 "nbformat": 4,
 "nbformat_minor": 4
}
