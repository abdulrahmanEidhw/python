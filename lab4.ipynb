{
 "cells": [
  {
   "cell_type": "code",
   "execution_count": null,
   "metadata": {},
   "outputs": [],
   "source": [
    "# numpy library for equations deal with numbers and arrays and it can use for \n",
    "#algebra and liner "
   ]
  },
  {
   "cell_type": "code",
   "execution_count": null,
   "metadata": {},
   "outputs": [],
   "source": [
    "#if u dont have it type pip install numpy"
   ]
  },
  {
   "cell_type": "code",
   "execution_count": null,
   "metadata": {},
   "outputs": [],
   "source": [
    "#to open all library we use import ### from ###"
   ]
  },
  {
   "cell_type": "code",
   "execution_count": null,
   "metadata": {},
   "outputs": [],
   "source": [
    "#down here we import numpy as np to shortcut the name (numpy)\n",
    "#and arange is mean "
   ]
  },
  {
   "cell_type": "code",
   "execution_count": 4,
   "metadata": {},
   "outputs": [
    {
     "name": "stdout",
     "output_type": "stream",
     "text": [
      "Help on class range in module builtins:\n",
      "\n",
      "class range(object)\n",
      " |  range(stop) -> range object\n",
      " |  range(start, stop[, step]) -> range object\n",
      " |  \n",
      " |  Return an object that produces a sequence of integers from start (inclusive)\n",
      " |  to stop (exclusive) by step.  range(i, j) produces i, i+1, i+2, ..., j-1.\n",
      " |  start defaults to 0, and stop is omitted!  range(4) produces 0, 1, 2, 3.\n",
      " |  These are exactly the valid indices for a list of 4 elements.\n",
      " |  When step is given, it specifies the increment (or decrement).\n",
      " |  \n",
      " |  Methods defined here:\n",
      " |  \n",
      " |  __bool__(self, /)\n",
      " |      self != 0\n",
      " |  \n",
      " |  __contains__(self, key, /)\n",
      " |      Return key in self.\n",
      " |  \n",
      " |  __eq__(self, value, /)\n",
      " |      Return self==value.\n",
      " |  \n",
      " |  __ge__(self, value, /)\n",
      " |      Return self>=value.\n",
      " |  \n",
      " |  __getattribute__(self, name, /)\n",
      " |      Return getattr(self, name).\n",
      " |  \n",
      " |  __getitem__(self, key, /)\n",
      " |      Return self[key].\n",
      " |  \n",
      " |  __gt__(self, value, /)\n",
      " |      Return self>value.\n",
      " |  \n",
      " |  __hash__(self, /)\n",
      " |      Return hash(self).\n",
      " |  \n",
      " |  __iter__(self, /)\n",
      " |      Implement iter(self).\n",
      " |  \n",
      " |  __le__(self, value, /)\n",
      " |      Return self<=value.\n",
      " |  \n",
      " |  __len__(self, /)\n",
      " |      Return len(self).\n",
      " |  \n",
      " |  __lt__(self, value, /)\n",
      " |      Return self<value.\n",
      " |  \n",
      " |  __ne__(self, value, /)\n",
      " |      Return self!=value.\n",
      " |  \n",
      " |  __reduce__(...)\n",
      " |      Helper for pickle.\n",
      " |  \n",
      " |  __repr__(self, /)\n",
      " |      Return repr(self).\n",
      " |  \n",
      " |  __reversed__(...)\n",
      " |      Return a reverse iterator.\n",
      " |  \n",
      " |  count(...)\n",
      " |      rangeobject.count(value) -> integer -- return number of occurrences of value\n",
      " |  \n",
      " |  index(...)\n",
      " |      rangeobject.index(value) -> integer -- return index of value.\n",
      " |      Raise ValueError if the value is not present.\n",
      " |  \n",
      " |  ----------------------------------------------------------------------\n",
      " |  Static methods defined here:\n",
      " |  \n",
      " |  __new__(*args, **kwargs) from builtins.type\n",
      " |      Create and return a new object.  See help(type) for accurate signature.\n",
      " |  \n",
      " |  ----------------------------------------------------------------------\n",
      " |  Data descriptors defined here:\n",
      " |  \n",
      " |  start\n",
      " |  \n",
      " |  step\n",
      " |  \n",
      " |  stop\n",
      "\n"
     ]
    }
   ],
   "source": [
    " help(range) #help(function) to know functions help"
   ]
  },
  {
   "cell_type": "code",
   "execution_count": 5,
   "metadata": {},
   "outputs": [
    {
     "data": {
      "text/plain": [
       "array([ 0,  1,  2,  3,  4,  5,  6,  7,  8,  9, 10, 11, 12, 13, 14])"
      ]
     },
     "execution_count": 5,
     "metadata": {},
     "output_type": "execute_result"
    }
   ],
   "source": [
    "# reshape do re oreder array \n",
    "import numpy as np\n",
    "a = np.arange(15)\n",
    "a"
   ]
  },
  {
   "cell_type": "code",
   "execution_count": 1,
   "metadata": {},
   "outputs": [
    {
     "data": {
      "text/plain": [
       "array([[ 0,  1,  2,  3,  4],\n",
       "       [ 5,  6,  7,  8,  9],\n",
       "       [10, 11, 12, 13, 14]])"
      ]
     },
     "execution_count": 1,
     "metadata": {},
     "output_type": "execute_result"
    }
   ],
   "source": [
    "import numpy as np\n",
    "a = np.arange(15).reshape(3, 5)\n",
    "a"
   ]
  },
  {
   "cell_type": "code",
   "execution_count": 2,
   "metadata": {},
   "outputs": [
    {
     "name": "stdout",
     "output_type": "stream",
     "text": [
      "[8 4 6 0 2]\n"
     ]
    }
   ],
   "source": [
    "import numpy as np \n",
    "\n",
    "print(np.array([8, 4, 6, 0, 2]))"
   ]
  },
  {
   "cell_type": "code",
   "execution_count": null,
   "metadata": {},
   "outputs": [],
   "source": []
  },
  {
   "cell_type": "code",
   "execution_count": 6,
   "metadata": {},
   "outputs": [
    {
     "name": "stdout",
     "output_type": "stream",
     "text": [
      "create a 2-d array by passing a list of lists into array().\n",
      "[[1 2 3]\n",
      " [4 5 6]\n",
      " [7 8 9]]\n",
      "Access elemnts of the array with brackets.\n",
      "2 6\n",
      "the elemnts of a 2-d array are 1d arrays\n",
      "[1 2 3]\n"
     ]
    }
   ],
   "source": [
    "print('create a 2-d array by passing a list of lists into array().')\n",
    "A = np.array( [ [1, 2, 3],[4, 5,6], [7, 8, 9] ] )\n",
    "print(A)\n",
    "\n",
    "# here to access 2d first bracket for the arrays and second \n",
    "#array for the element iside the array \n",
    "#so here a[0.1] mean array 0 and 1\n",
    "#and a(1.2)mean array 0 elemnt 1 and elemnt2 in array 1\n",
    "print('Access elemnts of the array with brackets.')\n",
    "print(A[0, 1], A[1, 2])\n",
    "\n",
    "print('the elemnts of a 2-d array are 1d arrays')\n",
    "print(A[0])"
   ]
  },
  {
   "cell_type": "markdown",
   "metadata": {},
   "source": [
    "## exercise 1.1"
   ]
  },
  {
   "cell_type": "code",
   "execution_count": null,
   "metadata": {},
   "outputs": [],
   "source": [
    "    a= np.arry([],[])\n",
    "    b=np.array([],[],[])\n",
    "    \n",
    "dot_Array(a, b)  \n",
    "\n",
    "def dot_Array(a, b):\n",
    "    z=np.dot(a, b)\n",
    "    \n",
    "    print(z)\n",
    "    #return or print"
   ]
  },
  {
   "cell_type": "markdown",
   "metadata": {},
   "source": [
    "## exrcise 1.2"
   ]
  },
  {
   "cell_type": "code",
   "execution_count": null,
   "metadata": {},
   "outputs": [],
   "source": [
    "#np.ndarray -> go to help(ndarray) and give example "
   ]
  },
  {
   "cell_type": "markdown",
   "metadata": {},
   "source": [
    "## 1.2 basic array operations"
   ]
  },
  {
   "cell_type": "code",
   "execution_count": 8,
   "metadata": {
    "scrolled": true
   },
   "outputs": [
    {
     "name": "stdout",
     "output_type": "stream",
     "text": [
      "Addition concatenates lists together\n",
      "[1, 2, 3, 4, 5, 6]\n",
      "mutliplication concatenates a list with itself a given number of times\n",
      "[1, 2, 3, 1, 2, 3, 1, 2, 3, 1, 2, 3]\n"
     ]
    }
   ],
   "source": [
    "# here the operations on arrays \n",
    "#operations on arrays are differnt that usual operations\n",
    "print('Addition concatenates lists together')\n",
    "print([1, 2, 3]+[4, 5, 6])\n",
    "\n",
    "print('mutliplication concatenates a list with itself a given number of times')\n",
    "print([1, 2, 3] * 4)"
   ]
  },
  {
   "cell_type": "markdown",
   "metadata": {},
   "source": [
    "## exercise 1.3"
   ]
  },
  {
   "cell_type": "code",
   "execution_count": 10,
   "metadata": {},
   "outputs": [
    {
     "name": "stdout",
     "output_type": "stream",
     "text": [
      "[13  6 11]\n"
     ]
    }
   ],
   "source": [
    "x=np.array([3, -4, 1])\n",
    "y=np.array([5, 2, 3])\n",
    "z = x + 10\n",
    "\n",
    "\n",
    "print(z)"
   ]
  },
  {
   "cell_type": "markdown",
   "metadata": {},
   "source": [
    "## array attributes"
   ]
  },
  {
   "cell_type": "code",
   "execution_count": 39,
   "metadata": {},
   "outputs": [
    {
     "name": "stdout",
     "output_type": "stream",
     "text": [
      "[ 0 10 20 30 40]\n",
      "[30 10 40]\n",
      "[ 0 30]\n"
     ]
    }
   ],
   "source": [
    "\n",
    "# from 0 to 50 add 10\n",
    "x = np.arange(0, 50, 10)\n",
    "index = np.array([3, 1, 4])\n",
    "print(x)\n",
    "print(x[index])\n",
    "\n",
    "mask = np.array([True, False, False, True, False])\n",
    "print(x[mask])"
   ]
  },
  {
   "cell_type": "code",
   "execution_count": 11,
   "metadata": {},
   "outputs": [
    {
     "name": "stdout",
     "output_type": "stream",
     "text": [
      "[10 12 14 16 18]\n",
      "[False False False  True  True]\n",
      "[16 18]\n",
      "[ 10  12  14 100 100]\n"
     ]
    }
   ],
   "source": [
    "y= np.arange(10, 20, 2)\n",
    "print(y)\n",
    "mask = y > 15\n",
    "print(mask)\n",
    "print(y[mask])\n",
    "\n",
    "y[mask] = 100\n",
    "print(y)"
   ]
  },
  {
   "cell_type": "code",
   "execution_count": null,
   "metadata": {},
   "outputs": [],
   "source": [
    "#sklearn library "
   ]
  },
  {
   "cell_type": "code",
   "execution_count": 11,
   "metadata": {},
   "outputs": [
    {
     "name": "stdout",
     "output_type": "stream",
     "text": [
      "C:\\Users\\2\\anaconda3\\lib\\site-packages\\sklearn\\datasets\\data\\iris.csv\n"
     ]
    }
   ],
   "source": [
    "from sklearn import datasets\n",
    "\n",
    "iris = datasets.load_iris()\n",
    "print(iris.filename)"
   ]
  },
  {
   "cell_type": "code",
   "execution_count": null,
   "metadata": {},
   "outputs": [],
   "source": [
    "#this library give data set default"
   ]
  },
  {
   "cell_type": "code",
   "execution_count": 21,
   "metadata": {},
   "outputs": [
    {
     "data": {
      "text/plain": [
       "array([[1.5e+02, 4.0e+00,     nan,     nan,     nan],\n",
       "       [5.1e+00, 3.5e+00, 1.4e+00, 2.0e-01, 0.0e+00],\n",
       "       [4.9e+00, 3.0e+00, 1.4e+00, 2.0e-01, 0.0e+00],\n",
       "       [4.7e+00, 3.2e+00, 1.3e+00, 2.0e-01, 0.0e+00],\n",
       "       [4.6e+00, 3.1e+00, 1.5e+00, 2.0e-01, 0.0e+00],\n",
       "       [5.0e+00, 3.6e+00, 1.4e+00, 2.0e-01, 0.0e+00],\n",
       "       [5.4e+00, 3.9e+00, 1.7e+00, 4.0e-01, 0.0e+00],\n",
       "       [4.6e+00, 3.4e+00, 1.4e+00, 3.0e-01, 0.0e+00],\n",
       "       [5.0e+00, 3.4e+00, 1.5e+00, 2.0e-01, 0.0e+00],\n",
       "       [4.4e+00, 2.9e+00, 1.4e+00, 2.0e-01, 0.0e+00],\n",
       "       [4.9e+00, 3.1e+00, 1.5e+00, 1.0e-01, 0.0e+00],\n",
       "       [5.4e+00, 3.7e+00, 1.5e+00, 2.0e-01, 0.0e+00],\n",
       "       [4.8e+00, 3.4e+00, 1.6e+00, 2.0e-01, 0.0e+00],\n",
       "       [4.8e+00, 3.0e+00, 1.4e+00, 1.0e-01, 0.0e+00],\n",
       "       [4.3e+00, 3.0e+00, 1.1e+00, 1.0e-01, 0.0e+00],\n",
       "       [5.8e+00, 4.0e+00, 1.2e+00, 2.0e-01, 0.0e+00],\n",
       "       [5.7e+00, 4.4e+00, 1.5e+00, 4.0e-01, 0.0e+00],\n",
       "       [5.4e+00, 3.9e+00, 1.3e+00, 4.0e-01, 0.0e+00],\n",
       "       [5.1e+00, 3.5e+00, 1.4e+00, 3.0e-01, 0.0e+00],\n",
       "       [5.7e+00, 3.8e+00, 1.7e+00, 3.0e-01, 0.0e+00],\n",
       "       [5.1e+00, 3.8e+00, 1.5e+00, 3.0e-01, 0.0e+00],\n",
       "       [5.4e+00, 3.4e+00, 1.7e+00, 2.0e-01, 0.0e+00],\n",
       "       [5.1e+00, 3.7e+00, 1.5e+00, 4.0e-01, 0.0e+00],\n",
       "       [4.6e+00, 3.6e+00, 1.0e+00, 2.0e-01, 0.0e+00],\n",
       "       [5.1e+00, 3.3e+00, 1.7e+00, 5.0e-01, 0.0e+00],\n",
       "       [4.8e+00, 3.4e+00, 1.9e+00, 2.0e-01, 0.0e+00],\n",
       "       [5.0e+00, 3.0e+00, 1.6e+00, 2.0e-01, 0.0e+00],\n",
       "       [5.0e+00, 3.4e+00, 1.6e+00, 4.0e-01, 0.0e+00],\n",
       "       [5.2e+00, 3.5e+00, 1.5e+00, 2.0e-01, 0.0e+00],\n",
       "       [5.2e+00, 3.4e+00, 1.4e+00, 2.0e-01, 0.0e+00],\n",
       "       [4.7e+00, 3.2e+00, 1.6e+00, 2.0e-01, 0.0e+00],\n",
       "       [4.8e+00, 3.1e+00, 1.6e+00, 2.0e-01, 0.0e+00],\n",
       "       [5.4e+00, 3.4e+00, 1.5e+00, 4.0e-01, 0.0e+00],\n",
       "       [5.2e+00, 4.1e+00, 1.5e+00, 1.0e-01, 0.0e+00],\n",
       "       [5.5e+00, 4.2e+00, 1.4e+00, 2.0e-01, 0.0e+00],\n",
       "       [4.9e+00, 3.1e+00, 1.5e+00, 2.0e-01, 0.0e+00],\n",
       "       [5.0e+00, 3.2e+00, 1.2e+00, 2.0e-01, 0.0e+00],\n",
       "       [5.5e+00, 3.5e+00, 1.3e+00, 2.0e-01, 0.0e+00],\n",
       "       [4.9e+00, 3.6e+00, 1.4e+00, 1.0e-01, 0.0e+00],\n",
       "       [4.4e+00, 3.0e+00, 1.3e+00, 2.0e-01, 0.0e+00],\n",
       "       [5.1e+00, 3.4e+00, 1.5e+00, 2.0e-01, 0.0e+00],\n",
       "       [5.0e+00, 3.5e+00, 1.3e+00, 3.0e-01, 0.0e+00],\n",
       "       [4.5e+00, 2.3e+00, 1.3e+00, 3.0e-01, 0.0e+00],\n",
       "       [4.4e+00, 3.2e+00, 1.3e+00, 2.0e-01, 0.0e+00],\n",
       "       [5.0e+00, 3.5e+00, 1.6e+00, 6.0e-01, 0.0e+00],\n",
       "       [5.1e+00, 3.8e+00, 1.9e+00, 4.0e-01, 0.0e+00],\n",
       "       [4.8e+00, 3.0e+00, 1.4e+00, 3.0e-01, 0.0e+00],\n",
       "       [5.1e+00, 3.8e+00, 1.6e+00, 2.0e-01, 0.0e+00],\n",
       "       [4.6e+00, 3.2e+00, 1.4e+00, 2.0e-01, 0.0e+00],\n",
       "       [5.3e+00, 3.7e+00, 1.5e+00, 2.0e-01, 0.0e+00],\n",
       "       [5.0e+00, 3.3e+00, 1.4e+00, 2.0e-01, 0.0e+00],\n",
       "       [7.0e+00, 3.2e+00, 4.7e+00, 1.4e+00, 1.0e+00],\n",
       "       [6.4e+00, 3.2e+00, 4.5e+00, 1.5e+00, 1.0e+00],\n",
       "       [6.9e+00, 3.1e+00, 4.9e+00, 1.5e+00, 1.0e+00],\n",
       "       [5.5e+00, 2.3e+00, 4.0e+00, 1.3e+00, 1.0e+00],\n",
       "       [6.5e+00, 2.8e+00, 4.6e+00, 1.5e+00, 1.0e+00],\n",
       "       [5.7e+00, 2.8e+00, 4.5e+00, 1.3e+00, 1.0e+00],\n",
       "       [6.3e+00, 3.3e+00, 4.7e+00, 1.6e+00, 1.0e+00],\n",
       "       [4.9e+00, 2.4e+00, 3.3e+00, 1.0e+00, 1.0e+00],\n",
       "       [6.6e+00, 2.9e+00, 4.6e+00, 1.3e+00, 1.0e+00],\n",
       "       [5.2e+00, 2.7e+00, 3.9e+00, 1.4e+00, 1.0e+00],\n",
       "       [5.0e+00, 2.0e+00, 3.5e+00, 1.0e+00, 1.0e+00],\n",
       "       [5.9e+00, 3.0e+00, 4.2e+00, 1.5e+00, 1.0e+00],\n",
       "       [6.0e+00, 2.2e+00, 4.0e+00, 1.0e+00, 1.0e+00],\n",
       "       [6.1e+00, 2.9e+00, 4.7e+00, 1.4e+00, 1.0e+00],\n",
       "       [5.6e+00, 2.9e+00, 3.6e+00, 1.3e+00, 1.0e+00],\n",
       "       [6.7e+00, 3.1e+00, 4.4e+00, 1.4e+00, 1.0e+00],\n",
       "       [5.6e+00, 3.0e+00, 4.5e+00, 1.5e+00, 1.0e+00],\n",
       "       [5.8e+00, 2.7e+00, 4.1e+00, 1.0e+00, 1.0e+00],\n",
       "       [6.2e+00, 2.2e+00, 4.5e+00, 1.5e+00, 1.0e+00],\n",
       "       [5.6e+00, 2.5e+00, 3.9e+00, 1.1e+00, 1.0e+00],\n",
       "       [5.9e+00, 3.2e+00, 4.8e+00, 1.8e+00, 1.0e+00],\n",
       "       [6.1e+00, 2.8e+00, 4.0e+00, 1.3e+00, 1.0e+00],\n",
       "       [6.3e+00, 2.5e+00, 4.9e+00, 1.5e+00, 1.0e+00],\n",
       "       [6.1e+00, 2.8e+00, 4.7e+00, 1.2e+00, 1.0e+00],\n",
       "       [6.4e+00, 2.9e+00, 4.3e+00, 1.3e+00, 1.0e+00],\n",
       "       [6.6e+00, 3.0e+00, 4.4e+00, 1.4e+00, 1.0e+00],\n",
       "       [6.8e+00, 2.8e+00, 4.8e+00, 1.4e+00, 1.0e+00],\n",
       "       [6.7e+00, 3.0e+00, 5.0e+00, 1.7e+00, 1.0e+00],\n",
       "       [6.0e+00, 2.9e+00, 4.5e+00, 1.5e+00, 1.0e+00],\n",
       "       [5.7e+00, 2.6e+00, 3.5e+00, 1.0e+00, 1.0e+00],\n",
       "       [5.5e+00, 2.4e+00, 3.8e+00, 1.1e+00, 1.0e+00],\n",
       "       [5.5e+00, 2.4e+00, 3.7e+00, 1.0e+00, 1.0e+00],\n",
       "       [5.8e+00, 2.7e+00, 3.9e+00, 1.2e+00, 1.0e+00],\n",
       "       [6.0e+00, 2.7e+00, 5.1e+00, 1.6e+00, 1.0e+00],\n",
       "       [5.4e+00, 3.0e+00, 4.5e+00, 1.5e+00, 1.0e+00],\n",
       "       [6.0e+00, 3.4e+00, 4.5e+00, 1.6e+00, 1.0e+00],\n",
       "       [6.7e+00, 3.1e+00, 4.7e+00, 1.5e+00, 1.0e+00],\n",
       "       [6.3e+00, 2.3e+00, 4.4e+00, 1.3e+00, 1.0e+00],\n",
       "       [5.6e+00, 3.0e+00, 4.1e+00, 1.3e+00, 1.0e+00],\n",
       "       [5.5e+00, 2.5e+00, 4.0e+00, 1.3e+00, 1.0e+00],\n",
       "       [5.5e+00, 2.6e+00, 4.4e+00, 1.2e+00, 1.0e+00],\n",
       "       [6.1e+00, 3.0e+00, 4.6e+00, 1.4e+00, 1.0e+00],\n",
       "       [5.8e+00, 2.6e+00, 4.0e+00, 1.2e+00, 1.0e+00],\n",
       "       [5.0e+00, 2.3e+00, 3.3e+00, 1.0e+00, 1.0e+00],\n",
       "       [5.6e+00, 2.7e+00, 4.2e+00, 1.3e+00, 1.0e+00],\n",
       "       [5.7e+00, 3.0e+00, 4.2e+00, 1.2e+00, 1.0e+00],\n",
       "       [5.7e+00, 2.9e+00, 4.2e+00, 1.3e+00, 1.0e+00],\n",
       "       [6.2e+00, 2.9e+00, 4.3e+00, 1.3e+00, 1.0e+00],\n",
       "       [5.1e+00, 2.5e+00, 3.0e+00, 1.1e+00, 1.0e+00],\n",
       "       [5.7e+00, 2.8e+00, 4.1e+00, 1.3e+00, 1.0e+00],\n",
       "       [6.3e+00, 3.3e+00, 6.0e+00, 2.5e+00, 2.0e+00],\n",
       "       [5.8e+00, 2.7e+00, 5.1e+00, 1.9e+00, 2.0e+00],\n",
       "       [7.1e+00, 3.0e+00, 5.9e+00, 2.1e+00, 2.0e+00],\n",
       "       [6.3e+00, 2.9e+00, 5.6e+00, 1.8e+00, 2.0e+00],\n",
       "       [6.5e+00, 3.0e+00, 5.8e+00, 2.2e+00, 2.0e+00],\n",
       "       [7.6e+00, 3.0e+00, 6.6e+00, 2.1e+00, 2.0e+00],\n",
       "       [4.9e+00, 2.5e+00, 4.5e+00, 1.7e+00, 2.0e+00],\n",
       "       [7.3e+00, 2.9e+00, 6.3e+00, 1.8e+00, 2.0e+00],\n",
       "       [6.7e+00, 2.5e+00, 5.8e+00, 1.8e+00, 2.0e+00],\n",
       "       [7.2e+00, 3.6e+00, 6.1e+00, 2.5e+00, 2.0e+00],\n",
       "       [6.5e+00, 3.2e+00, 5.1e+00, 2.0e+00, 2.0e+00],\n",
       "       [6.4e+00, 2.7e+00, 5.3e+00, 1.9e+00, 2.0e+00],\n",
       "       [6.8e+00, 3.0e+00, 5.5e+00, 2.1e+00, 2.0e+00],\n",
       "       [5.7e+00, 2.5e+00, 5.0e+00, 2.0e+00, 2.0e+00],\n",
       "       [5.8e+00, 2.8e+00, 5.1e+00, 2.4e+00, 2.0e+00],\n",
       "       [6.4e+00, 3.2e+00, 5.3e+00, 2.3e+00, 2.0e+00],\n",
       "       [6.5e+00, 3.0e+00, 5.5e+00, 1.8e+00, 2.0e+00],\n",
       "       [7.7e+00, 3.8e+00, 6.7e+00, 2.2e+00, 2.0e+00],\n",
       "       [7.7e+00, 2.6e+00, 6.9e+00, 2.3e+00, 2.0e+00],\n",
       "       [6.0e+00, 2.2e+00, 5.0e+00, 1.5e+00, 2.0e+00],\n",
       "       [6.9e+00, 3.2e+00, 5.7e+00, 2.3e+00, 2.0e+00],\n",
       "       [5.6e+00, 2.8e+00, 4.9e+00, 2.0e+00, 2.0e+00],\n",
       "       [7.7e+00, 2.8e+00, 6.7e+00, 2.0e+00, 2.0e+00],\n",
       "       [6.3e+00, 2.7e+00, 4.9e+00, 1.8e+00, 2.0e+00],\n",
       "       [6.7e+00, 3.3e+00, 5.7e+00, 2.1e+00, 2.0e+00],\n",
       "       [7.2e+00, 3.2e+00, 6.0e+00, 1.8e+00, 2.0e+00],\n",
       "       [6.2e+00, 2.8e+00, 4.8e+00, 1.8e+00, 2.0e+00],\n",
       "       [6.1e+00, 3.0e+00, 4.9e+00, 1.8e+00, 2.0e+00],\n",
       "       [6.4e+00, 2.8e+00, 5.6e+00, 2.1e+00, 2.0e+00],\n",
       "       [7.2e+00, 3.0e+00, 5.8e+00, 1.6e+00, 2.0e+00],\n",
       "       [7.4e+00, 2.8e+00, 6.1e+00, 1.9e+00, 2.0e+00],\n",
       "       [7.9e+00, 3.8e+00, 6.4e+00, 2.0e+00, 2.0e+00],\n",
       "       [6.4e+00, 2.8e+00, 5.6e+00, 2.2e+00, 2.0e+00],\n",
       "       [6.3e+00, 2.8e+00, 5.1e+00, 1.5e+00, 2.0e+00],\n",
       "       [6.1e+00, 2.6e+00, 5.6e+00, 1.4e+00, 2.0e+00],\n",
       "       [7.7e+00, 3.0e+00, 6.1e+00, 2.3e+00, 2.0e+00],\n",
       "       [6.3e+00, 3.4e+00, 5.6e+00, 2.4e+00, 2.0e+00],\n",
       "       [6.4e+00, 3.1e+00, 5.5e+00, 1.8e+00, 2.0e+00],\n",
       "       [6.0e+00, 3.0e+00, 4.8e+00, 1.8e+00, 2.0e+00],\n",
       "       [6.9e+00, 3.1e+00, 5.4e+00, 2.1e+00, 2.0e+00],\n",
       "       [6.7e+00, 3.1e+00, 5.6e+00, 2.4e+00, 2.0e+00],\n",
       "       [6.9e+00, 3.1e+00, 5.1e+00, 2.3e+00, 2.0e+00],\n",
       "       [5.8e+00, 2.7e+00, 5.1e+00, 1.9e+00, 2.0e+00],\n",
       "       [6.8e+00, 3.2e+00, 5.9e+00, 2.3e+00, 2.0e+00],\n",
       "       [6.7e+00, 3.3e+00, 5.7e+00, 2.5e+00, 2.0e+00],\n",
       "       [6.7e+00, 3.0e+00, 5.2e+00, 2.3e+00, 2.0e+00],\n",
       "       [6.3e+00, 2.5e+00, 5.0e+00, 1.9e+00, 2.0e+00],\n",
       "       [6.5e+00, 3.0e+00, 5.2e+00, 2.0e+00, 2.0e+00],\n",
       "       [6.2e+00, 3.4e+00, 5.4e+00, 2.3e+00, 2.0e+00],\n",
       "       [5.9e+00, 3.0e+00, 5.1e+00, 1.8e+00, 2.0e+00]])"
      ]
     },
     "execution_count": 21,
     "metadata": {},
     "output_type": "execute_result"
    }
   ],
   "source": [
    "import numpy as np \n",
    "iris_data = np.genfromtxt('C:\\\\Users\\\\2\\\\anaconda3\\\\lib\\\\site-packages\\\\sklearn\\\\datasets\\\\data\\\\iris.csv', delimiter=\",\", skip_header=1)\n",
    "print(iris_data)"
   ]
  },
  {
   "cell_type": "code",
   "execution_count": 19,
   "metadata": {},
   "outputs": [
    {
     "data": {
      "text/plain": [
       "['sepal length (cm)',\n",
       " 'sepal width (cm)',\n",
       " 'petal length (cm)',\n",
       " 'petal width (cm)']"
      ]
     },
     "execution_count": 19,
     "metadata": {},
     "output_type": "execute_result"
    }
   ],
   "source": [
    "#column names\n",
    "iris.feature_names\n"
   ]
  },
  {
   "cell_type": "code",
   "execution_count": 19,
   "metadata": {},
   "outputs": [
    {
     "name": "stdout",
     "output_type": "stream",
     "text": [
      "mean of sepal length (cm) is 5.843333333333334\n"
     ]
    }
   ],
   "source": [
    "import numpy as np \n",
    "iris_data = np.genfromtxt('C:\\\\Users\\\\2\\\\anaconda3\\\\lib\\\\site-packages\\\\sklearn\\\\datasets\\\\data\\\\iris.csv', delimiter=\",\", skip_header=1)\n",
    "\n",
    "print(\"mean of {} is {}\".format(iris.feature_names[0], iris_data[:,0].mean()))\n"
   ]
  },
  {
   "cell_type": "code",
   "execution_count": 35,
   "metadata": {},
   "outputs": [
    {
     "name": "stdout",
     "output_type": "stream",
     "text": [
      "1.8800000000000001\n"
     ]
    }
   ],
   "source": [
    "\n",
    "print(iris_data[3, : ].mean())"
   ]
  },
  {
   "cell_type": "code",
   "execution_count": 36,
   "metadata": {},
   "outputs": [
    {
     "name": "stdout",
     "output_type": "stream",
     "text": [
      "4.7\n"
     ]
    }
   ],
   "source": [
    "print(iris_data[3, : ].max())"
   ]
  },
  {
   "cell_type": "code",
   "execution_count": 38,
   "metadata": {},
   "outputs": [
    {
     "name": "stdout",
     "output_type": "stream",
     "text": [
      "0.0\n"
     ]
    }
   ],
   "source": [
    "print(iris_data[3, : ].min())"
   ]
  },
  {
   "cell_type": "code",
   "execution_count": null,
   "metadata": {},
   "outputs": [],
   "source": []
  }
 ],
 "metadata": {
  "kernelspec": {
   "display_name": "Python 3",
   "language": "python",
   "name": "python3"
  },
  "language_info": {
   "codemirror_mode": {
    "name": "ipython",
    "version": 3
   },
   "file_extension": ".py",
   "mimetype": "text/x-python",
   "name": "python",
   "nbconvert_exporter": "python",
   "pygments_lexer": "ipython3",
   "version": "3.8.5"
  }
 },
 "nbformat": 4,
 "nbformat_minor": 4
}
